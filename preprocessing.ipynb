{
 "cells": [
  {
   "cell_type": "code",
   "execution_count": 82,
   "metadata": {},
   "outputs": [],
   "source": [
    "import pandas as pd\n",
    "import gzip\n",
    "import numpy as np\n",
    "from random import randint"
   ]
  },
  {
   "cell_type": "code",
   "execution_count": 83,
   "metadata": {},
   "outputs": [],
   "source": [
    "LOCAL = 'Lausanne'"
   ]
  },
  {
   "cell_type": "code",
   "execution_count": 84,
   "metadata": {},
   "outputs": [],
   "source": [
    "# Specify the file paths\n",
    "activity_file = 'data_original/vaud_activities.csv.gz'\n",
    "population_file = 'data_original/vaud_population.csv.gz'\n",
    "trip_file = 'data_original/vaud_trips.csv.gz'\n",
    "\n",
    "# Read the gzipped CSV files\n",
    "def read_gzipped_csv(file_path):\n",
    "    with gzip.open(file_path, 'rt') as file:\n",
    "        df = pd.read_csv(file)\n",
    "    return df\n",
    "\n",
    "# Read the dataframes\n",
    "activity_vaud = read_gzipped_csv(activity_file)\n",
    "population_vaud = read_gzipped_csv(population_file)[['id', 'age', 'home_x', 'home_y', 'local']].drop_duplicates()\n",
    "trip_vaud = read_gzipped_csv(trip_file)[['Unnamed: 0', 'id', 'mode', 'dep_time','trav_time','start_link','end_link']].drop_duplicates()"
   ]
  },
  {
   "cell_type": "code",
   "execution_count": 85,
   "metadata": {},
   "outputs": [],
   "source": [
    "population_local = population_vaud[population_vaud['local'] == LOCAL] # individual id deja uniques\n",
    "# print(len(population_local))\n",
    "# population_local.head(1)"
   ]
  },
  {
   "cell_type": "code",
   "execution_count": 86,
   "metadata": {},
   "outputs": [],
   "source": [
    "population_local_ids = population_local['id'].unique()\n",
    "activity_local = activity_vaud[activity_vaud['id'].isin(population_local_ids)]\n",
    "activity_local_filt = activity_local[~activity_local['type'].isin(['other', 'pt interaction', 'home'])] # peut etre besoin du home facilities id ? \n",
    "# count_act_by_types = activity_local_filt.groupby('type')['facility'].nunique().reset_index()\n",
    "# print(f\"Here's the count of facilities by types in {LOCAL} : {count_act_by_types}\")\n",
    "# print(len(activity_local_filt))\n",
    "# activity_local_filt.head(1)"
   ]
  },
  {
   "cell_type": "code",
   "execution_count": 87,
   "metadata": {},
   "outputs": [],
   "source": [
    "def stratified_sample(df, column, fraction):\n",
    "    \"\"\"\n",
    "    Perform stratified sampling on df based on column.\n",
    "    :param df: Input dataframe\n",
    "    :param column: Column name for stratification\n",
    "    :param fraction: Fraction of rows to sample from each group\n",
    "    :return: Sampled dataframe\n",
    "    \"\"\"\n",
    "    return df.groupby(column).apply(lambda x: x.sample(frac=fraction)).reset_index(drop=True)"
   ]
  },
  {
   "cell_type": "code",
   "execution_count": 88,
   "metadata": {},
   "outputs": [],
   "source": [
    "# peut etre associer un seed pour avoir toujours le meme resultat ? \n",
    "# Attention : stratified sampling != proportional sampling \n",
    "activity_local_filt_sampled = stratified_sample(activity_local_filt, 'type', 0.001) # 0.001 to compare exact / heuristic\n",
    "activity_local_filt_sampled.drop(columns=['start_time', 'end_time'], inplace=True)\n",
    "# print(len(activity_local_filt))\n",
    "# print(len(activity_local_filt_sampled))\n",
    "# count_act_by_types_sampled = activity_local_filt_sampled.groupby('type')['facility'].nunique().reset_index()\n",
    "# print(f\"Here's the count of facilities by types in the sample : {count_act_by_types_sampled}\")\n",
    "# activity_local_filt_sampled.head()"
   ]
  },
  {
   "cell_type": "code",
   "execution_count": 92,
   "metadata": {},
   "outputs": [],
   "source": [
    "# 0 = 00:00 // 288 = 24:00 (total len = 289)\n",
    "# Code to fix the following values for each activity type : \n",
    "    # t1 = earliest time to start\n",
    "    # t2 = latest time to start\n",
    "    # t3 = max duration\n",
    "    # min duration\n",
    "    # des duration\n",
    "for i, row in activity_local_filt_sampled.iterrows():\n",
    "    type_ = row['type']\n",
    "    match type_: \n",
    "        case 'education':\n",
    "            # activity_local_filt_sampled.at[i, 'feasible_start'] = pd.to_datetime('07:00:00')\n",
    "            activity_local_filt_sampled.at[i, 'group'] = 1\n",
    "            activity_local_filt_sampled.at[i, 't1'] = 84 # 7h\n",
    "            activity_local_filt_sampled.at[i, 't2'] = 276 # 23h\n",
    "            activity_local_filt_sampled.at[i, 't3'] = 108 # 9h\n",
    "            activity_local_filt_sampled.at[i, 'min_duration'] = 6 # 30m\n",
    "            activity_local_filt_sampled.at[i, 'des_duration'] = randint(12, 60) # entre 1h et 5h\n",
    "        case 'work':\n",
    "            activity_local_filt_sampled.at[i, 'group'] = 2\n",
    "            activity_local_filt_sampled.at[i, 't1'] = 60 # 5h\n",
    "            activity_local_filt_sampled.at[i, 't2'] = 276 # 23h\n",
    "            activity_local_filt_sampled.at[i, 't3'] = 132 # 11h\n",
    "            activity_local_filt_sampled.at[i, 'min_duration'] = 6 # 30m\n",
    "            activity_local_filt_sampled.at[i, 'des_duration'] = randint(24, 60) # entre 2h et 5h\n",
    "        case 'leisure':\n",
    "            activity_local_filt_sampled.at[i, 'group'] = 3\n",
    "            activity_local_filt_sampled.at[i, 't1'] = 0 # 0h\n",
    "            activity_local_filt_sampled.at[i, 't2'] = 288 # 24h\n",
    "            activity_local_filt_sampled.at[i, 't3'] = 132 # 11h\n",
    "            activity_local_filt_sampled.at[i, 'min_duration'] = 6 # 30m\n",
    "            activity_local_filt_sampled.at[i, 'des_duration'] = randint(12, 60) # entre 1h et 5h\n",
    "        case 'shop':\n",
    "            activity_local_filt_sampled.at[i, 'group'] = 4\n",
    "            activity_local_filt_sampled.at[i, 't1'] = 84 # 7h\n",
    "            activity_local_filt_sampled.at[i, 't2'] = 240 # 20h\n",
    "            activity_local_filt_sampled.at[i, 't3'] = 132 # 11h\n",
    "            activity_local_filt_sampled.at[i, 'min_duration'] = 6 # 30m\n",
    "            activity_local_filt_sampled.at[i, 'des_duration'] = randint(12, 60) # entre 1h et 5h\n",
    "            \n",
    "int_columns = ['t1', 't2', 't3', 'min_duration', 'des_duration', 'x', 'y', 'group'] # x and y in meters ? \n",
    "activity_local_filt_sampled[int_columns] = activity_local_filt_sampled[int_columns].astype(int) \n",
    "\n",
    "# Proof that we have a activity id : \n",
    "# print(len(activity_local_filt_sampled))\n",
    "# print(activity_local_filt_sampled.index.nunique())"
   ]
  },
  {
   "cell_type": "code",
   "execution_count": 93,
   "metadata": {},
   "outputs": [],
   "source": [
    "population_local_sample = population_local.sample(frac = 0.0001)\n",
    "# print(len(population_local))\n",
    "# print(len(population_local_sample))\n",
    "# population_local_sample.head(1)\n"
   ]
  },
  {
   "cell_type": "code",
   "execution_count": null,
   "metadata": {},
   "outputs": [],
   "source": [
    "int_columns_2 = ['home_x', 'home_y'] \n",
    "population_local_sample[int_columns_2] = population_local_sample[int_columns_2].astype(int) "
   ]
  },
  {
   "cell_type": "code",
   "execution_count": 94,
   "metadata": {},
   "outputs": [],
   "source": [
    "activity_local_filt_sampled.to_csv(f'data_preprocessed/activity.csv', index=False)\n",
    "population_local_sample.to_csv(f'data_preprocessed/population.csv', index=False) # convertir aussi en int home x et home y ? "
   ]
  },
  {
   "cell_type": "markdown",
   "metadata": {},
   "source": [
    "# TESTS"
   ]
  },
  {
   "cell_type": "code",
   "execution_count": null,
   "metadata": {},
   "outputs": [],
   "source": [
    "trip_local = trip_vaud[trip_vaud['id'].isin(population_local)]\n",
    "\n",
    "trip_local.head(1)"
   ]
  },
  {
   "cell_type": "code",
   "execution_count": null,
   "metadata": {},
   "outputs": [],
   "source": [
    "print(activity_local_filtered['Unnamed: 0'].nunique()) # nb de lignes\n",
    "print(activity_local_filtered['id'].nunique()) # nb d'habitants\n",
    "print(activity_local_filtered['link'].nunique()) # nb de link\n",
    "print(activity_local_filtered['facility'].nunique()) # nb de facility\n",
    "# il a 92k facilities pour 15k link : plusieurs facility a un link\n",
    "# pourtnat les link sont pas forcement les memes coord mais bon a chaque fois tres proche\n",
    "# il faut que je fasse un dataframe des liens avec leur mean coord ou juste la 1ere apparition (groupby et mean)\n",
    "# puis ensuite sur ca je fais un merge\n",
    "link_df = activity_local_filtered[['link', 'x', 'y']]\n",
    "link_df = link_df.groupby('link').mean()\n",
    "link_df.head(1)"
   ]
  },
  {
   "cell_type": "code",
   "execution_count": null,
   "metadata": {},
   "outputs": [],
   "source": [
    "# merge with start_link\n",
    "trip_local_merged = pd.merge(trip_local, link_df, left_on='start_link', right_index=True)\n",
    "trip_local_merged.rename(columns={'x': 'start_x', 'y': 'start_y'}, inplace=True)\n",
    "\n",
    "# merge with end_link\n",
    "trip_local_merged = pd.merge(trip_local_merged, link_df, left_on='end_link', right_index=True)\n",
    "trip_local_merged.rename(columns={'x': 'end_x', 'y': 'end_y'}, inplace=True)\n",
    "\n",
    "trip_local_merged.head()\n",
    "\n",
    "# pour chaque tripreer une nouvelle colonne avcec direct la distance calcule from le df des activities"
   ]
  },
  {
   "cell_type": "code",
   "execution_count": null,
   "metadata": {},
   "outputs": [],
   "source": [
    "trip_local_merged['distance'] = np.sqrt((trip_local_merged['start_x'] - trip_local_merged['end_x']) ** 2 +\n",
    "                                (trip_local_merged['start_y'] - trip_local_merged['end_y']) ** 2)\n",
    "# Ensure that trav_time is in timedelta format\n",
    "trip_local_merged['trav_time'] = pd.to_timedelta(trip_local_merged['trav_time'])\n",
    "\n",
    "average_duration = trip_local_merged['trav_time'].mean()  # convertir en minutes TO CHECK\n",
    "\n",
    "\n",
    "# Now, calculate the average_speed\n",
    "trip_local_merged['average_speed'] = (trip_local_merged['distance'] / 1000) / (trip_local_merged['trav_time'].dt.total_seconds() / 3600)\n",
    "\n",
    "# print(trip_local_merged.head(5)) # There is duplicates via the dep time or mode !!!\n",
    "\n",
    "average_distance = trip_local_merged['distance'].mean() / 1000  # convert to km\n",
    "overall_average_speed = trip_local_merged['average_speed'].mean()\n",
    "\n",
    "print(f\"Average durations of trips in {LOCAL} : {average_duration}m\")\n",
    "print(\"Average Distance: {:.2f} km\".format(average_distance))\n",
    "print(\"Overall Average Speed: {:.2f} km/h\".format(overall_average_speed))\n"
   ]
  },
  {
   "cell_type": "code",
   "execution_count": null,
   "metadata": {},
   "outputs": [],
   "source": [
    "work_facilities_df = activity_local_filtered[activity_local_filtered['type'] == 'work'][['id', 'facility', 'x', 'y']].drop_duplicates() # verifier via les homes\n",
    "population_local_merged = population_local.merge(work_facilities_df, on='id', how='left')\n",
    "population_local_merged.rename(columns={'facility': 'work_facility', 'x': 'work_facility_x', 'y': 'work_facility_y'}, inplace=True)\n",
    "\n",
    "population_local_merged.head(1)"
   ]
  },
  {
   "cell_type": "code",
   "execution_count": null,
   "metadata": {},
   "outputs": [],
   "source": [
    "# Dataframes for validations on a small numbers\n",
    "\n",
    "n = 1 # nb of individuals\n",
    "m = 10 # nb of activities availables\n",
    "\n",
    "activity_local_filtered_sample = activity_local_filtered.sample(m)\n",
    "population_local_merged_sample = population_local_merged.sample(n)"
   ]
  },
  {
   "cell_type": "code",
   "execution_count": null,
   "metadata": {},
   "outputs": [],
   "source": [
    "activity_local_filtered.to_csv(f'data_preprocessed/activity.csv', index=False)\n",
    "trip_local.to_csv(f'data_preprocessed/trip.csv', index=False)\n",
    "population_local_merged.to_csv(f'data_preprocessed/population.csv', index=False)"
   ]
  }
 ],
 "metadata": {
  "kernelspec": {
   "display_name": "nlp_a1",
   "language": "python",
   "name": "python3"
  },
  "language_info": {
   "codemirror_mode": {
    "name": "ipython",
    "version": 3
   },
   "file_extension": ".py",
   "mimetype": "text/x-python",
   "name": "python",
   "nbconvert_exporter": "python",
   "pygments_lexer": "ipython3",
   "version": "3.11.0"
  },
  "orig_nbformat": 4
 },
 "nbformat": 4,
 "nbformat_minor": 2
}
