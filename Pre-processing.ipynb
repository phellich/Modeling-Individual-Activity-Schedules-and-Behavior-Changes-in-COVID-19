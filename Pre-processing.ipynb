{
 "cells": [
  {
   "cell_type": "code",
   "execution_count": 100,
   "metadata": {},
   "outputs": [],
   "source": [
    "import pandas as pd\n",
    "import gzip\n",
    "import numpy as np\n",
    "from datetime import datetime, timedelta\n",
    "from tqdm import tqdm\n",
    "import random\n",
    "import numpy as np"
   ]
  },
  {
   "cell_type": "code",
   "execution_count": 101,
   "metadata": {},
   "outputs": [],
   "source": [
    "LOCAL = 'Avenches'\n",
    "# LOCAL = 'Lausanne'\n",
    "FRACT_ACT = 1\n",
    "FRACT_POP = 0.01\n",
    "activity_types = ['work', 'education', 'leisure', 'shop']\n",
    "TIME_INTERVAL = 5\n",
    "HORIZON = round(24*60/TIME_INTERVAL) + 1"
   ]
  },
  {
   "cell_type": "markdown",
   "metadata": {},
   "source": [
    "#### Generic functions :"
   ]
  },
  {
   "cell_type": "code",
   "execution_count": 102,
   "metadata": {},
   "outputs": [],
   "source": [
    "def stratified_sample(df, column, fraction):\n",
    "    \"\"\"\n",
    "    Perform stratified sampling on df based on column.\n",
    "    :param df: Input dataframe\n",
    "    :param column: Column name for stratification\n",
    "    :param fraction: Fraction of rows to sample from each group\n",
    "    :return: Sampled dataframe\n",
    "    \"\"\"\n",
    "    return df.groupby(column).apply(lambda x: x.sample(frac=fraction)).reset_index(drop=True)"
   ]
  },
  {
   "cell_type": "code",
   "execution_count": 103,
   "metadata": {},
   "outputs": [],
   "source": [
    "def round_to_horizon(t):\n",
    "    \"\"\" Help to round a time to 5m intervals \"\"\"\n",
    "    # Convert datetime.time to datetime.datetime for calculations\n",
    "    dt = datetime.combine(datetime.today(), t)\n",
    "    \n",
    "    # Find the number of seconds since midnight\n",
    "    seconds_since_midnight = (dt - dt.replace(hour=0, minute=0, second=0, microsecond=0)).seconds\n",
    "\n",
    "    # Round to the closest 5 minutes (300 seconds)\n",
    "    rounded_seconds = round(seconds_since_midnight / (TIME_INTERVAL*60)) * TIME_INTERVAL*60\n",
    "    rounded_dt = dt.replace(hour=0, minute=0, second=0) + timedelta(seconds=rounded_seconds)\n",
    "\n",
    "    return rounded_dt.time()\n",
    "\n",
    "def time_to_horizon_interval(t):\n",
    "    \"\"\" Return time horizon corresponding to a timestamp \"\"\"\n",
    "    rounded_time = round_to_horizon(t)\n",
    "    \n",
    "    # Convert datetime.time to datetime.datetime for calculations\n",
    "    dt = datetime.combine(datetime.today(), rounded_time)\n",
    "    \n",
    "    # Get total minutes since midnight\n",
    "    minutes_since_midnight = (dt - dt.replace(hour=0, minute=0, second=0)).seconds // 60\n",
    "\n",
    "    # Convert total minutes to horizon intervals (5 minute intervals)\n",
    "    horizon_interval = minutes_since_midnight // TIME_INTERVAL\n",
    "\n",
    "    return horizon_interval"
   ]
  },
  {
   "cell_type": "markdown",
   "metadata": {},
   "source": [
    "#### Preprocessing"
   ]
  },
  {
   "cell_type": "markdown",
   "metadata": {},
   "source": [
    "Read the data and filter the irrelevants columns"
   ]
  },
  {
   "cell_type": "code",
   "execution_count": 104,
   "metadata": {},
   "outputs": [],
   "source": [
    "activity_file = 'Data/Original/vaud_activities.csv.gz'\n",
    "population_file = 'Data/Original/vaud_population.csv.gz'\n",
    "trip_file = 'Data/Original/vaud_trips.csv.gz'\n",
    "\n",
    "def read_gzipped_csv(file_path):\n",
    "    with gzip.open(file_path, 'rt') as file:\n",
    "        df = pd.read_csv(file)\n",
    "    return df\n",
    "\n",
    "activity_vaud = read_gzipped_csv(activity_file)[['id', 'type', 'facility', 'x', 'y', 'start_time', 'end_time']]\n",
    "population_vaud = read_gzipped_csv(population_file)[['id', 'local', 'age', 'employed', 'home_x', 'home_y']]"
   ]
  },
  {
   "cell_type": "markdown",
   "metadata": {},
   "source": [
    "Filter the population by the city"
   ]
  },
  {
   "cell_type": "code",
   "execution_count": 105,
   "metadata": {},
   "outputs": [],
   "source": [
    "population_local = population_vaud[population_vaud['local'] == LOCAL] \n",
    "# print(len(population_local))\n",
    "# population_local.head(1)"
   ]
  },
  {
   "cell_type": "markdown",
   "metadata": {},
   "source": [
    "Use the filtered population to extract activities of the same city. Also count the activities by type in this city. "
   ]
  },
  {
   "cell_type": "code",
   "execution_count": 106,
   "metadata": {},
   "outputs": [],
   "source": [
    "population_local_ids = population_local['id'].unique()\n",
    "activity_local = activity_vaud[activity_vaud['id'].isin(population_local_ids)]\n",
    "activity_local_filt_nowork = activity_local[~activity_local['type'].isin(['other', 'pt interaction', 'home', 'work'])] \n",
    "# count_act_by_types = activity_local_filt.groupby('type')['facility'].nunique().reset_index()\n",
    "# print(f\"Here's the count of facilities by types in {LOCAL} : {count_act_by_types}\")\n",
    "# print(len(activity_local_filt))\n",
    "# activity_local_filt.head(2)"
   ]
  },
  {
   "cell_type": "markdown",
   "metadata": {},
   "source": [
    "Sample the activities of this city by keeping the proportion between each type (stratified sampling)"
   ]
  },
  {
   "cell_type": "code",
   "execution_count": 107,
   "metadata": {},
   "outputs": [],
   "source": [
    "# peut etre associer un seed pour avoir toujours le meme resultat ? \n",
    "# Attention : stratified sampling != proportional sampling \n",
    "activity_local_filt_sampled = stratified_sample(activity_local_filt_nowork, column='type', fraction=FRACT_ACT) # 0.001 to compare exact / heuristic\n",
    "# activity_local_filt_sampled.drop(columns=['start_time', 'end_time'], inplace=True)\n",
    "# print(len(activity_local_filt))\n",
    "# print(len(activity_local_filt_sampled))\n",
    "# count_act_by_types_sampled = activity_local_filt_sampled.groupby('type')['facility'].nunique().reset_index()\n",
    "# print(f\"Here's the count of facilities by types in the sample : {count_act_by_types_sampled}\")\n",
    "# activity_local_filt_sampled.head()"
   ]
  },
  {
   "cell_type": "markdown",
   "metadata": {},
   "source": [
    "Create new columns for each activity with their caracterics (anticipate initialization)"
   ]
  },
  {
   "cell_type": "code",
   "execution_count": 108,
   "metadata": {},
   "outputs": [],
   "source": [
    "# 0 = 00:00 // 288 = 24:00 (total len = 289)\n",
    "# Code to fix the following values for each activity type : \n",
    "    # t1 = earliest time to start\n",
    "    # t2 = latest time to start\n",
    "    # t3 = max duration\n",
    "    # min duration\n",
    "    # des duration\n",
    "\n",
    "for i, row in activity_local_filt_sampled.iterrows():\n",
    "    type_ = row['type']\n",
    "    match type_: \n",
    "        case 'education':\n",
    "            activity_local_filt_sampled.at[i, 'group'] = 1\n",
    "            activity_local_filt_sampled.at[i, 'earliest_start'] = 6*60/TIME_INTERVAL # 6h\n",
    "            activity_local_filt_sampled.at[i, 'latest_start'] = 23*60/TIME_INTERVAL # 23h\n",
    "            activity_local_filt_sampled.at[i, 'max_duration'] = 10*60/TIME_INTERVAL # 10h\n",
    "            activity_local_filt_sampled.at[i, 'min_duration'] = 10/TIME_INTERVAL # 10m\n",
    "        case 'leisure':\n",
    "            activity_local_filt_sampled.at[i, 'group'] = 3\n",
    "            activity_local_filt_sampled.at[i, 'earliest_start'] = 6*60/TIME_INTERVAL # 6h\n",
    "            activity_local_filt_sampled.at[i, 'latest_start'] = 23*60/TIME_INTERVAL # 23h\n",
    "            activity_local_filt_sampled.at[i, 'max_duration'] = 10*60/TIME_INTERVAL # 10h\n",
    "            activity_local_filt_sampled.at[i, 'min_duration'] = 10/TIME_INTERVAL # 10m\n",
    "        case 'shop':\n",
    "            activity_local_filt_sampled.at[i, 'group'] = 4\n",
    "            activity_local_filt_sampled.at[i, 'earliest_start'] = 7*60/TIME_INTERVAL # 7h\n",
    "            activity_local_filt_sampled.at[i, 'latest_start'] = 23*60/TIME_INTERVAL # 23h\n",
    "            activity_local_filt_sampled.at[i, 'max_duration'] = 10*60/TIME_INTERVAL # 10h\n",
    "            activity_local_filt_sampled.at[i, 'min_duration'] = 10/TIME_INTERVAL # 10m\n",
    "            \n",
    "int_columns = ['earliest_start', 'latest_start', 'max_duration', 'min_duration', 'x', 'y', 'group']\n",
    "activity_local_filt_sampled[int_columns] = activity_local_filt_sampled[int_columns].astype(int) \n",
    "# Proof that we have a activity id : \n",
    "# print(len(activity_local_filt_sampled))\n",
    "# print(activity_local_filt_sampled.index.nunique())"
   ]
  },
  {
   "cell_type": "markdown",
   "metadata": {},
   "source": [
    "Sample the individuals among the city inhabitants and converts home coordinates in `int`"
   ]
  },
  {
   "cell_type": "code",
   "execution_count": 109,
   "metadata": {},
   "outputs": [],
   "source": [
    "population_local_sample = population_local.sample(frac = FRACT_POP)\n",
    "# print(len(population_local))\n",
    "# print(len(population_local_sample))\n",
    "# population_local_sample.head(1)\n",
    "# activity_local_filt_sampled.head()"
   ]
  },
  {
   "cell_type": "markdown",
   "metadata": {},
   "source": [
    "Filter invalid times (hours < 24) & Convert time object in terms of horizons  "
   ]
  },
  {
   "cell_type": "code",
   "execution_count": 118,
   "metadata": {},
   "outputs": [],
   "source": [
    "pd.set_option('mode.chained_assignment', None)\n",
    "\n",
    "activity_local_filt = activity_local[~activity_local['type'].isin(['other', 'pt interaction', 'home'])] \n",
    "\n",
    "# Assuming 'start_time' and 'end_time' are in a format recognized by pandas (like 'HH:MM:SS')\n",
    "activity_local_filt['start_time'] = pd.to_timedelta(activity_local_filt['start_time'].astype(str))\n",
    "activity_local_filt['end_time'] = pd.to_timedelta(activity_local_filt['end_time'].astype(str))\n",
    "\n",
    "# Filter out any NaT values or times that are not within the correct range\n",
    "# For example, checking that 'start_time' and 'end_time' are less than 24 hours\n",
    "activity_local_filt = activity_local_filt[\n",
    "    (activity_local_filt['start_time'] < pd.Timedelta('1 days')) &\n",
    "    (activity_local_filt['end_time'] < pd.Timedelta('1 days'))\n",
    "]\n",
    "\n",
    "# Convert 'start_time' and 'end_time' to 'datetime.time' if they are within a single day.\n",
    "activity_local_filt['start_time'] = activity_local_filt['start_time'].apply(\n",
    "    lambda x: (datetime.min + x).time() if isinstance(x, pd.Timedelta) and x < pd.Timedelta(days=1) else x\n",
    ")\n",
    "activity_local_filt['end_time'] = activity_local_filt['end_time'].apply(\n",
    "    lambda x: (datetime.min + x).time() if isinstance(x, pd.Timedelta) and x < pd.Timedelta(days=1) else x\n",
    ")\n",
    "\n",
    "# print(activity_local_filt.head())\n",
    "\n",
    "activity_local_filt['start_time_interval'] = activity_local_filt['start_time'].apply(time_to_horizon_interval)\n",
    "activity_local_filt['end_time_interval'] = activity_local_filt['end_time'].apply(time_to_horizon_interval)\n",
    "activity_local_filt['duration_interval'] = activity_local_filt['end_time_interval'] - activity_local_filt['start_time_interval']\n",
    "\n",
    "# print(len(activity_local_filt))\n",
    "# activity_local_filt.head(30)"
   ]
  },
  {
   "cell_type": "markdown",
   "metadata": {},
   "source": [
    "For each individual, and for each activity type, add starting time and duration preferences"
   ]
  },
  {
   "cell_type": "code",
   "execution_count": 119,
   "metadata": {},
   "outputs": [],
   "source": [
    "id_range1 = population_local[(population_local['age'] >= 0) & (population_local['age'] <= 18)]\n",
    "id_range2_emp = population_local[(population_local['age'] >= 19) & (population_local['age'] <= 35) & (population_local['employed'] == True)]\n",
    "id_range3_emp = population_local[(population_local['age'] >= 36) & (population_local['age'] <= 65) & (population_local['employed'] == True)]\n",
    "id_range4_emp = population_local[(population_local['age'] >= 66) & (population_local['age'] <= 100) & (population_local['employed'] == True)]\n",
    "id_range2_unemp = population_local[(population_local['age'] >= 21) & (population_local['age'] <= 40) & (population_local['employed'] == False)]\n",
    "id_range3_unemp = population_local[(population_local['age'] >= 41) & (population_local['age'] <= 65) & (population_local['employed'] == False)]\n",
    "id_range4_unemp = population_local[(population_local['age'] >= 66) & (population_local['age'] <= 100) & (population_local['employed'] == False)]"
   ]
  },
  {
   "cell_type": "code",
   "execution_count": 120,
   "metadata": {},
   "outputs": [],
   "source": [
    "def calculate_distributions(sub_population, activity_local_filt):\n",
    "    '''Fonction pour calculer la distribution des intervalles de temps de début et de durée\n",
    "    Returns a dictionary distributions['start_time_interval'] = count // distributions['duration_interval'] = count'''\n",
    "    distributions = {}\n",
    "    sub_population_ids = sub_population['id'].unique()\n",
    "    filtered_activities = activity_local_filt[activity_local_filt['id'].isin(sub_population_ids)]\n",
    "\n",
    "    for activity_type in filtered_activities['type'].unique():\n",
    "        activity_data = filtered_activities[filtered_activities['type'] == activity_type]\n",
    "        start_dist = activity_data['start_time_interval'].value_counts(normalize=True)\n",
    "        duration_dist = activity_data['duration_interval'].value_counts(normalize=True)\n",
    "        distributions[activity_type] = {'start': start_dist, 'duration': duration_dist}\n",
    "    \n",
    "    return distributions\n",
    "\n",
    "def get_subpopulation_id(person):\n",
    "    age, employed = person['age'], person['employed']\n",
    "    if age <= 18:\n",
    "        return 'range1'\n",
    "    elif age <= 35:\n",
    "        return 'range2_emp' if employed else 'range2_unemp'\n",
    "    elif age <= 65:\n",
    "        return 'range3_emp' if employed else 'range3_unemp'\n",
    "    else:\n",
    "        return 'range4_emp' if employed else 'range4_unemp'\n",
    "\n",
    "# Calculer les distributions pour chaque sous-population\n",
    "distributions = {\n",
    "    'range1': calculate_distributions(id_range1, activity_local_filt),\n",
    "    'range2_emp': calculate_distributions(id_range2_emp, activity_local_filt),\n",
    "    'range3_emp': calculate_distributions(id_range3_emp, activity_local_filt),\n",
    "    'range4_emp': calculate_distributions(id_range4_emp, activity_local_filt),\n",
    "    'range2_unemp': calculate_distributions(id_range2_unemp, activity_local_filt),\n",
    "    'range3_unemp': calculate_distributions(id_range3_unemp, activity_local_filt),\n",
    "    'range4_unemp': calculate_distributions(id_range4_unemp, activity_local_filt),\n",
    "}\n",
    "# print(distributions['range2_emp'])"
   ]
  },
  {
   "cell_type": "code",
   "execution_count": 121,
   "metadata": {},
   "outputs": [],
   "source": [
    "def get_preferences(id, type, df):\n",
    "    ''' (deprecated) Returns the duration and starting preference for an individual and an activity \n",
    "    Returns default value for each activity that the individual didn't do\n",
    "    NOW : just used to determine participation'''\n",
    "    row = df.loc[(df['id'] == id) & (df['type'] == type)]\n",
    "    \n",
    "    if row.empty:\n",
    "        # return default_durations[type], default_starting[type], 0\n",
    "        return 0\n",
    "    else:\n",
    "        # Assuming there's only one matching row, so taking the first one\n",
    "        # duration = row['duration_interval'].iloc[0]\n",
    "        # starting_time = row['start_time_interval'].iloc[0]\n",
    "        # return duration, starting_time, 1\n",
    "        return 1"
   ]
  },
  {
   "cell_type": "code",
   "execution_count": 122,
   "metadata": {},
   "outputs": [],
   "source": [
    "rows_of_interessed = activity_local_filt[activity_local_filt['id'].isin(population_local_sample['id'])]\n",
    "\n",
    "# Initialisation des colonnes pour les durées et heures de début d'activité\n",
    "for activity_type in activity_types:\n",
    "    population_local_sample[f'{activity_type}_start'] = 0  \n",
    "    population_local_sample[f'{activity_type}_dur'] = 0   \n",
    "    population_local_sample[f'{activity_type}_part'] = 0  \n",
    "\n",
    "# Pour chaque individu et activity type, choisir aléatoirement un intervalle de temps de début et de durée\n",
    "for index, person in population_local_sample.iterrows():\n",
    "    subpop_id = get_subpopulation_id(person)\n",
    "    for activity_type, dist in distributions[subpop_id].items():\n",
    "        if dist['start'].empty or dist['duration'].empty:\n",
    "            chosen_start = 0\n",
    "            chosen_duration = 0\n",
    "        else:\n",
    "            chosen_start = np.random.choice(dist['start'].index, p=dist['start'].values)\n",
    "            chosen_duration = np.random.choice(dist['duration'].index, p=dist['duration'].values)\n",
    "        \n",
    "        # Les enfants ne travaillent pas\n",
    "        if (subpop_id == 'range1' and activity_type == 'work'):\n",
    "            chosen_start = 0\n",
    "            chosen_duration = 0\n",
    "        \n",
    "        population_local_sample.at[index, f'{activity_type}_start'] = chosen_start\n",
    "        population_local_sample.at[index, f'{activity_type}_dur'] = chosen_duration\n",
    "        population_local_sample.at[index, f'{activity_type}_part'] = get_preferences(person['id'], activity_type, rows_of_interessed)\n"
   ]
  },
  {
   "cell_type": "markdown",
   "metadata": {},
   "source": [
    "Pick a random work facility for each individual according to the workplace distribution"
   ]
  },
  {
   "cell_type": "code",
   "execution_count": 123,
   "metadata": {},
   "outputs": [
    {
     "name": "stdout",
     "output_type": "stream",
     "text": [
      "There are 791 work facilities in Avenches\n"
     ]
    }
   ],
   "source": [
    "df_work_facilities = activity_local[activity_local['type'] == 'work']\n",
    "print(f\"There are {df_work_facilities['facility'].nunique()} work facilities in {LOCAL}\")\n",
    "work_facilities_count = df_work_facilities.groupby('facility')['id'].count()\n",
    "\n",
    "# Créer un DataFrame résumé avec les coordonnées moyennes pour chaque établissement\n",
    "facility_coords = df_work_facilities.groupby('facility')[['x', 'y']].mean()\n",
    "\n",
    "# Créer le dictionnaire pour les coordonnées x et y des établissements\n",
    "facility_coords_dict = facility_coords.to_dict('index')\n",
    "\n",
    "# Choisir un établissement pour chaque individu dans l'échantillon\n",
    "N = len(population_local_sample)\n",
    "facilities = work_facilities_count.index.tolist()\n",
    "workers = work_facilities_count.tolist()\n",
    "chosen_facilities = random.choices(facilities, weights=workers, k=N)\n",
    "\n",
    "# Assigner les coordonnées x, y et l'ID de l'établissement choisi\n",
    "population_local_sample['work_id'] = chosen_facilities\n",
    "population_local_sample['work_x'] = [facility_coords_dict[facility]['x'] for facility in chosen_facilities]\n",
    "population_local_sample['work_y'] = [facility_coords_dict[facility]['y'] for facility in chosen_facilities]\n",
    "# population_local_sample.head()"
   ]
  },
  {
   "cell_type": "markdown",
   "metadata": {},
   "source": [
    "Write the final preprocessed dataframes into .csv files"
   ]
  },
  {
   "cell_type": "code",
   "execution_count": 124,
   "metadata": {},
   "outputs": [],
   "source": [
    "int_columns_2 = ['home_x', 'home_y', 'work_x', 'work_y', 'work_id', 'work_start', 'shop_start', 'leisure_start', 'education_start',\n",
    "                 'work_dur', 'shop_dur', 'leisure_dur', 'education_dur'] \n",
    "population_local_sample[int_columns_2] = population_local_sample[int_columns_2].astype(int) "
   ]
  },
  {
   "cell_type": "code",
   "execution_count": 117,
   "metadata": {},
   "outputs": [],
   "source": [
    "activity_local_filt_sampled.drop(['start_time', 'end_time'], axis=1).to_csv(f'Data/PreProcessed/activity.csv', index=False)\n",
    "population_local_sample.to_csv(f'Data/PreProcessed/population.csv', index=False) "
   ]
  },
  {
   "cell_type": "code",
   "execution_count": null,
   "metadata": {},
   "outputs": [],
   "source": []
  }
 ],
 "metadata": {
  "kernelspec": {
   "display_name": "nlp_a1",
   "language": "python",
   "name": "python3"
  },
  "language_info": {
   "codemirror_mode": {
    "name": "ipython",
    "version": 3
   },
   "file_extension": ".py",
   "mimetype": "text/x-python",
   "name": "python",
   "nbconvert_exporter": "python",
   "pygments_lexer": "ipython3",
   "version": "3.11.0"
  },
  "orig_nbformat": 4
 },
 "nbformat": 4,
 "nbformat_minor": 2
}
