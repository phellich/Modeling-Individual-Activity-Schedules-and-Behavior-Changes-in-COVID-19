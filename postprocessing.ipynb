{
 "cells": [
  {
   "cell_type": "code",
   "execution_count": 1,
   "metadata": {},
   "outputs": [],
   "source": [
    "import pandas as pd\n",
    "import seaborn as sns\n",
    "from datetime import datetime, timedelta, time\n",
    "import gzip\n",
    "import matplotlib.pyplot as plt\n",
    "import matplotlib.patches as mpatches\n",
    "from tabulate import tabulate\n",
    "from pandas import json_normalize"
   ]
  },
  {
   "cell_type": "code",
   "execution_count": 2,
   "metadata": {},
   "outputs": [],
   "source": [
    "# LOCAL = 'Avenches'\n",
    "LOCAL = 'Lausanne'\n",
    "group_to_type = {\n",
    "    0: 'home',\n",
    "    1: 'education',\n",
    "    2: 'work',\n",
    "    3: 'leisure',\n",
    "    4: 'shop'\n",
    "}\n",
    "HORIZON = 289"
   ]
  },
  {
   "cell_type": "code",
   "execution_count": 3,
   "metadata": {},
   "outputs": [],
   "source": [
    "# Specify the file paths\n",
    "activity_file = 'data_original/vaud_activities.csv.gz'\n",
    "population_file = 'data_original/vaud_population.csv.gz'\n",
    "trip_file = 'data_original/vaud_trips.csv.gz'\n",
    "\n",
    "# Read the gzipped CSV files\n",
    "def read_gzipped_csv(file_path):\n",
    "    with gzip.open(file_path, 'rt') as file:\n",
    "        df = pd.read_csv(file)\n",
    "    return df\n",
    "\n",
    "# Read the dataframes\n",
    "activity_vaud = read_gzipped_csv(activity_file)\n",
    "population_vaud = read_gzipped_csv(population_file)[['id', 'age', 'home_x', 'home_y', 'local']].drop_duplicates()\n",
    "trip_vaud = read_gzipped_csv(trip_file)[['Unnamed: 0', 'id', 'mode', 'dep_time','trav_time','start_link','end_link']].drop_duplicates()"
   ]
  },
  {
   "cell_type": "markdown",
   "metadata": {},
   "source": [
    "#### Generic functions :"
   ]
  },
  {
   "cell_type": "code",
   "execution_count": 29,
   "metadata": {},
   "outputs": [],
   "source": [
    "# https://matplotlib.org/stable/gallery/color/named_colors.html \n",
    "color_palette = {\n",
    "    'home': 'royalblue',       \n",
    "    'work': 'gold',     \n",
    "    'leisure': 'lightpink', # RGB tuple, each value must be in the range [0, 1]\n",
    "    'shop': 'aquamarine', \n",
    "    'transport': 'silver',   \n",
    "    'pt interaction': 'grey',\n",
    "    'other': 'mediumvioletred',\n",
    "    'education': 'teal',\n",
    "}"
   ]
  },
  {
   "cell_type": "code",
   "execution_count": 5,
   "metadata": {},
   "outputs": [],
   "source": [
    "def plot_schedule_dataset(activity_df, individual_id):\n",
    "    individual_schedule = activity_df[activity_df['id'] == individual_id]\n",
    "    individual_schedule = individual_schedule.sort_index()\n",
    "    \n",
    "    segments = []\n",
    "    colors = []\n",
    "    fig, ax = plt.subplots(figsize=(10, 1))\n",
    "    \n",
    "    start_of_day = datetime.strptime('00:00:00', '%H:%M:%S')\n",
    "    end_of_day = datetime.strptime('23:59:59', '%H:%M:%S')\n",
    "    prev_end = start_of_day\n",
    "    \n",
    "    for _, facility in individual_schedule.iterrows():\n",
    "        start_time = datetime.strptime(facility['start_time'], '%H:%M:%S') if pd.notna(facility['start_time']) else start_of_day\n",
    "        end_time = datetime.strptime(facility['end_time'], '%H:%M:%S') if pd.notna(facility['end_time']) else end_of_day\n",
    "        \n",
    "        if prev_end < start_time:\n",
    "            segments.append([(prev_end - start_of_day).total_seconds() / 3600, (start_time - prev_end).total_seconds() / 3600])\n",
    "            colors.append(color_palette['transport'])\n",
    "            ax.broken_barh([segments[-1]], (0, 1), facecolors=colors[-1])\n",
    "            \n",
    "        segments.append([(start_time - start_of_day).total_seconds() / 3600, (end_time - start_time).total_seconds() / 3600])\n",
    "        colors.append(color_palette[facility['type']])\n",
    "        ax.broken_barh([segments[-1]], (0, 1), facecolors=colors[-1])\n",
    "        \n",
    "        prev_end = end_time\n",
    "\n",
    "\n",
    "    legend_patches = [mpatches.Patch(color=color, label=activity) for activity, color in color_palette.items()]\n",
    "    ax.legend(handles=legend_patches, bbox_to_anchor=(1.05, 1), loc='upper left')\n",
    "    \n",
    "    ax.set_xlim(0, 24)\n",
    "    ax.set_yticks([])\n",
    "    ax.set_xticks(range(25))\n",
    "    ax.set_xlabel('Time (hours)')\n",
    "    plt.show()"
   ]
  },
  {
   "cell_type": "code",
   "execution_count": 6,
   "metadata": {},
   "outputs": [],
   "source": [
    "def print_schedule(activity_df, individual_id):\n",
    "    individual_schedule = activity_df[activity_df['id'] == individual_id]\n",
    "    individual_schedule = individual_schedule.sort_index()\n",
    "    print(tabulate(individual_schedule, headers='keys', tablefmt='pipe'))"
   ]
  },
  {
   "cell_type": "code",
   "execution_count": 7,
   "metadata": {},
   "outputs": [],
   "source": [
    "def horizons_to_timedelta(n):\n",
    "    minutes = n * 5\n",
    "    time_delta = timedelta(minutes=minutes)\n",
    "    return time_delta"
   ]
  },
  {
   "cell_type": "code",
   "execution_count": 8,
   "metadata": {},
   "outputs": [],
   "source": [
    "def json_to_flat_dataframe(json_path):\n",
    "    with open(json_path, 'r') as file:\n",
    "        data = pd.read_json(file)\n",
    "    \n",
    "    # Normalize the 'daily_schedule' data to create a flat table\n",
    "    # We will concatenate all the schedules along with their top-level data such as 'id', 'execution_time', etc.\n",
    "    flat_data = pd.DataFrame()  # Empty dataframe to hold our flattened data\n",
    "    for record in data.to_dict(orient='records'):\n",
    "        # Normalize the daily_schedule for each record\n",
    "        schedule_df = json_normalize(record, 'daily_schedule', errors='ignore')\n",
    "        \n",
    "        # Adding the top-level data as new columns to the schedule_df\n",
    "        for col in data.columns.difference(['daily_schedule']):\n",
    "            schedule_df[col] = record[col]\n",
    "        \n",
    "        # Append to the flat_data DataFrame\n",
    "        flat_data = pd.concat([flat_data, schedule_df], ignore_index=True)\n",
    "    \n",
    "    return flat_data"
   ]
  },
  {
   "cell_type": "code",
   "execution_count": 9,
   "metadata": {},
   "outputs": [],
   "source": [
    "def minutes_to_time2(minute_value):\n",
    "    total_minutes = minute_value * 5\n",
    "    hours, minutes = divmod(total_minutes, 60)\n",
    "    if hours >= 24:\n",
    "        hours = hours % 24\n",
    "    return time(hour=int(hours), minute=int(minutes))"
   ]
  },
  {
   "cell_type": "code",
   "execution_count": 10,
   "metadata": {},
   "outputs": [],
   "source": [
    "def filter_and_sort_activities(df):\n",
    "    # Convert 'start' and 'duration' from time objects to timedeltas for comparison\n",
    "    df['duration_td'] = df['duration'].apply(lambda x: pd.to_timedelta(x.strftime('%H:%M:%S')))\n",
    "    \n",
    "    # Group by 'acity' and find the index of the row with the maximum duration\n",
    "    idx = df.groupby('acity')['duration_td'].idxmax()\n",
    "    \n",
    "    # Select only the rows with the maximum duration\n",
    "    max_duration_df = df.loc[idx]\n",
    "    \n",
    "    # Drop the auxiliary 'duration_td' column\n",
    "    max_duration_df = max_duration_df.drop(columns=['duration_td'])\n",
    "    \n",
    "    # Now, sort the resulting DataFrame by the 'start' column\n",
    "    max_duration_df = max_duration_df.sort_values(by='start')\n",
    "    \n",
    "    return max_duration_df"
   ]
  },
  {
   "cell_type": "code",
   "execution_count": 11,
   "metadata": {},
   "outputs": [],
   "source": [
    "# Helper function to convert a time object to minutes\n",
    "def time_to_minutes(t):\n",
    "    return t.hour * 60 + t.minute\n",
    "\n",
    "# Helper function to convert minutes to a time object\n",
    "def minutes_to_time(minutes):\n",
    "    hours, minutes = divmod(minutes, 60)\n",
    "    return time(hour=hours, minute=minutes)\n",
    "\n",
    "# Function to calculate the end time of activities\n",
    "def calculate_end_time(row):\n",
    "    # Handle the special case for the last row\n",
    "    if row.name == df.last_valid_index():\n",
    "        return time(23, 59, 0)\n",
    "\n",
    "    start_minutes = time_to_minutes(row['start'])\n",
    "    duration_minutes = time_to_minutes(row['duration'])\n",
    "    end_minutes = start_minutes + duration_minutes\n",
    "\n",
    "    return minutes_to_time(end_minutes)"
   ]
  },
  {
   "cell_type": "code",
   "execution_count": 12,
   "metadata": {},
   "outputs": [],
   "source": [
    "def plot_schedule_json(df, individual_id):\n",
    "    individual_schedule = df[df['id'] == individual_id].sort_values(by='start')\n",
    "    \n",
    "    fig, ax = plt.subplots(figsize=(10, 1))\n",
    "    ax.set_xlim(0, 24)\n",
    "    ax.set_ylim(0, 1)\n",
    "    ax.set_yticks([])\n",
    "    ax.set_xticks(range(0, 25, 1))\n",
    "    ax.set_xlabel('Time (hours)')\n",
    "    \n",
    "    # Convert time objects to hours since the start of the day\n",
    "    time_to_hours = lambda t: t.hour + t.minute / 60 + t.second / 3600\n",
    "    \n",
    "    prev_end_time = time_to_hours(datetime.strptime('00:00:00', '%H:%M:%S').time())\n",
    "    \n",
    "    # Iterate over the activities\n",
    "    for _, activity in individual_schedule.iterrows():\n",
    "        start_time = time_to_hours(activity['start'])\n",
    "        end_time = time_to_hours(activity['end_time'])\n",
    "        \n",
    "        # If there is a gap between the previous end time and the current start time, plot it as 'transport'\n",
    "        if prev_end_time < start_time:\n",
    "            ax.broken_barh([(prev_end_time, start_time - prev_end_time)], (0, 1), facecolors=color_palette['transport'])\n",
    "        \n",
    "        ax.broken_barh([(start_time, end_time - start_time)], (0, 1), facecolors=color_palette[activity['group']])\n",
    "        \n",
    "        prev_end_time = end_time\n",
    "\n",
    "    legend_patches = [mpatches.Patch(color=color, label=activity) for activity, color in color_palette.items()]\n",
    "    ax.legend(handles=legend_patches, bbox_to_anchor=(1.05, 1), loc='upper left')\n",
    "    plt.show()"
   ]
  },
  {
   "cell_type": "code",
   "execution_count": 13,
   "metadata": {},
   "outputs": [],
   "source": [
    "def reorder_df(df):\n",
    "    new_order = [\n",
    "        'acity', 'facility', 'group', 'start', 'duration', 'end_time', 'time',\n",
    "        'cum_utility', 'DSSR_iterations', 'execution_time', 'id', 'utility'\n",
    "    ]\n",
    "    df = df[new_order]\n",
    "    return df"
   ]
  },
  {
   "cell_type": "code",
   "execution_count": 14,
   "metadata": {},
   "outputs": [],
   "source": [
    "def compare_individual_schedules(df_dataset, df_json, individual_id):\n",
    "    print(\"Here is his/her schedule in the original dataframe :\\n\")\n",
    "    print_schedule(df_dataset, individual_id)\n",
    "    plot_schedule_dataset(df_dataset, individual_id)\n",
    "    print(\"Here is his/her schedule with our planning algorythm :\\n\")\n",
    "    print_schedule(df_json, individual_id)\n",
    "    plot_schedule_json(df_json, individual_id)"
   ]
  },
  {
   "cell_type": "markdown",
   "metadata": {},
   "source": [
    "#### Tests :"
   ]
  },
  {
   "cell_type": "code",
   "execution_count": 21,
   "metadata": {},
   "outputs": [],
   "source": [
    "path_to_json_file = \"data_output/schedules.json\"\n",
    "df = json_to_flat_dataframe(path_to_json_file)\n",
    "# df.head()"
   ]
  },
  {
   "cell_type": "code",
   "execution_count": 22,
   "metadata": {},
   "outputs": [],
   "source": [
    "df['start'] = df['start'].apply(minutes_to_time2)\n",
    "df['duration'] = df['duration'].apply(minutes_to_time2)\n",
    "df['time'] = df['time'].apply(minutes_to_time2)\n",
    "# df.head()"
   ]
  },
  {
   "cell_type": "code",
   "execution_count": 23,
   "metadata": {},
   "outputs": [],
   "source": [
    "filtered_df = filter_and_sort_activities(df)\n",
    "# filtered_df.head()"
   ]
  },
  {
   "cell_type": "code",
   "execution_count": 24,
   "metadata": {},
   "outputs": [],
   "source": [
    "filtered_df['end_time'] = filtered_df.apply(calculate_end_time, axis=1)\n",
    "# filtered_df.head()"
   ]
  },
  {
   "cell_type": "code",
   "execution_count": 25,
   "metadata": {},
   "outputs": [],
   "source": [
    "schedule_postprocessed = reorder_df(filtered_df)\n",
    "# schedule_postprocessed.head()"
   ]
  },
  {
   "cell_type": "code",
   "execution_count": 30,
   "metadata": {},
   "outputs": [
    {
     "name": "stdout",
     "output_type": "stream",
     "text": [
      "Here is his/her schedule in the original dataframe :\n",
      "\n",
      "|        |   Unnamed: 0 |      id | type    | facility    |   link |           x |           y | start_time   | end_time   |\n",
      "|-------:|-------------:|--------:|:--------|:------------|-------:|------------:|------------:|:-------------|:-----------|\n",
      "| 251362 |     31993419 | 6349208 | home    | home2803817 | 763647 | 2.5381e+06  | 1.15436e+06 | nan          | 10:47:09   |\n",
      "| 251363 |     31993420 | 6349208 | other   | 601424      | 163975 | 2.53798e+06 | 1.15515e+06 | 10:57:09     | 11:27:09   |\n",
      "| 251364 |     31993421 | 6349208 | leisure | 7987        | 821247 | 2.53771e+06 | 1.15448e+06 | 11:32:09     | 15:47:09   |\n",
      "| 251365 |     31993422 | 6349208 | home    | home2803817 | 763647 | 2.5381e+06  | 1.15436e+06 | 15:53:09     | nan        |\n"
     ]
    },
    {
     "data": {
      "image/png": "[encoded data removed]",
      "text/plain": [
       "<Figure size 1000x100 with 1 Axes>"
      ]
     },
     "metadata": {},
     "output_type": "display_data"
    },
    {
     "name": "stdout",
     "output_type": "stream",
     "text": [
      "Here is his/her schedule with our planning algorythm :\n",
      "\n",
      "|     |   acity |   facility | group   | start    | duration   | end_time   | time     |   cum_utility |   DSSR_iterations |   execution_time |      id |   utility |\n",
      "|----:|--------:|-----------:|:--------|:---------|:-----------|:-----------|:---------|--------------:|------------------:|-----------------:|--------:|----------:|\n",
      "|   0 |       0 |          0 | home    | 00:00:00 | 00:05:00   | 00:05:00   | 00:05:00 |             0 |                 1 |            0.003 | 6349208 |         0 |\n",
      "|  70 |       2 |     631063 | leisure | 00:35:00 | 06:15:00   | 06:50:00   | 06:50:00 |             0 |                 1 |            0.003 | 6349208 |         0 |\n",
      "| 162 |       3 |     190491 | shop    | 07:05:00 | 08:05:00   | 15:10:00   | 15:10:00 |             0 |                 1 |            0.003 | 6349208 |         0 |\n",
      "| 250 |       4 |      53006 | work    | 15:40:00 | 07:45:00   | 23:25:00   | 23:25:00 |             0 |                 1 |            0.003 | 6349208 |         0 |\n",
      "| 251 |       5 |          0 | home    | 23:45:00 | 00:05:00   | 23:50:00   | 23:50:00 |             0 |                 1 |            0.003 | 6349208 |         0 |\n",
      "| 252 |       6 |          0 | home    | 23:55:00 | 00:05:00   | 23:59:00   | 00:00:00 |             0 |                 1 |            0.003 | 6349208 |         0 |\n"
     ]
    },
    {
     "data": {
      "image/png": "[encoded data removed]",
      "text/plain": [
       "<Figure size 1000x100 with 1 Axes>"
      ]
     },
     "metadata": {},
     "output_type": "display_data"
    }
   ],
   "source": [
    "id = 6349208\n",
    "compare_individual_schedules(activity_vaud, schedule_postprocessed, id)"
   ]
  },
  {
   "cell_type": "code",
   "execution_count": null,
   "metadata": {},
   "outputs": [],
   "source": []
  }
 ],
 "metadata": {
  "kernelspec": {
   "display_name": "schedule",
   "language": "python",
   "name": "python3"
  },
  "language_info": {
   "codemirror_mode": {
    "name": "ipython",
    "version": 3
   },
   "file_extension": ".py",
   "mimetype": "text/x-python",
   "name": "python",
   "nbconvert_exporter": "python",
   "pygments_lexer": "ipython3",
   "version": "3.11.0"
  }
 },
 "nbformat": 4,
 "nbformat_minor": 2
}
