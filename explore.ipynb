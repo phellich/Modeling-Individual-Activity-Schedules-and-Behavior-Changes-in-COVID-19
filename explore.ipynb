{
 "cells": [
  {
   "cell_type": "code",
   "execution_count": 25,
   "metadata": {},
   "outputs": [],
   "source": [
    "import pandas as pd\n",
    "import gzip\n",
    "import matplotlib.pyplot as plt\n",
    "import seaborn as sns"
   ]
  },
  {
   "cell_type": "markdown",
   "metadata": {},
   "source": [
    "### Download files and print them"
   ]
  },
  {
   "cell_type": "code",
   "execution_count": 11,
   "metadata": {},
   "outputs": [],
   "source": [
    "# Specify the file paths\n",
    "activity_file = 'vaud_activities.csv.gz'\n",
    "population_file = 'vaud_population.csv.gz'\n",
    "trip_file = 'vaud_trips.csv.gz'\n",
    "\n",
    "# Read the gzipped CSV files\n",
    "def read_gzipped_csv(file_path):\n",
    "    with gzip.open(file_path, 'rt') as file:\n",
    "        df = pd.read_csv(file)\n",
    "    return df\n",
    "\n",
    "# Read the dataframes\n",
    "activity_df = read_gzipped_csv(activity_file)\n",
    "population_df = read_gzipped_csv(population_file)\n",
    "trip_df = read_gzipped_csv(trip_file)"
   ]
  },
  {
   "cell_type": "code",
   "execution_count": 12,
   "metadata": {},
   "outputs": [
    {
     "name": "stdout",
     "output_type": "stream",
     "text": [
      "Activity Data:\n",
      "<class 'pandas.core.frame.DataFrame'>\n",
      "RangeIndex: 4455006 entries, 0 to 4455005\n",
      "Data columns (total 9 columns):\n",
      " #   Column      Dtype  \n",
      "---  ------      -----  \n",
      " 0   Unnamed: 0  int64  \n",
      " 1   id          int64  \n",
      " 2   type        object \n",
      " 3   facility    object \n",
      " 4   link        object \n",
      " 5   x           float64\n",
      " 6   y           float64\n",
      " 7   start_time  object \n",
      " 8   end_time    object \n",
      "dtypes: float64(2), int64(2), object(5)\n",
      "memory usage: 305.9+ MB\n",
      "None\n",
      "   Unnamed: 0       id     type    facility    link          x          y  \\\n",
      "0      423464  1069770     home  home480932  399007  2569239.0  1190194.0   \n",
      "1      423465  1069770     shop      168569  244909  2571696.0  1189601.0   \n",
      "2      423466  1069770     home  home480932  399007  2569239.0  1190194.0   \n",
      "3      423467  1069770  leisure      399230  399013  2569430.0  1189314.0   \n",
      "4      423468  1069770     home  home480932  399007  2569239.0  1190194.0   \n",
      "\n",
      "  start_time  end_time  \n",
      "0        NaN  09:23:32  \n",
      "1   09:25:32  09:33:32  \n",
      "2   09:35:32  09:53:32  \n",
      "3   09:56:32  10:23:32  \n",
      "4   10:26:32       NaN  \n"
     ]
    }
   ],
   "source": [
    "print(\"Activity Data:\")\n",
    "print(activity_df.info())\n",
    "print(activity_df.head())"
   ]
  },
  {
   "cell_type": "code",
   "execution_count": 13,
   "metadata": {},
   "outputs": [
    {
     "name": "stdout",
     "output_type": "stream",
     "text": [
      "Population Data:\n",
      "<class 'pandas.core.frame.DataFrame'>\n",
      "RangeIndex: 825564 entries, 0 to 825563\n",
      "Data columns (total 25 columns):\n",
      " #   Column            Non-Null Count   Dtype  \n",
      "---  ------            --------------   -----  \n",
      " 0   id                825564 non-null  int64  \n",
      " 1   age               825564 non-null  int64  \n",
      " 2   bikeAvailability  825564 non-null  object \n",
      " 3   carAvail          825564 non-null  object \n",
      " 4   employed          825564 non-null  bool   \n",
      " 5   hasLicense        825564 non-null  object \n",
      " 6   home_x            825564 non-null  float64\n",
      " 7   home_y            825564 non-null  float64\n",
      " 8   householdIncome   0 non-null       float64\n",
      " 9   isCarPassenger    825564 non-null  bool   \n",
      " 10  municipalityType  0 non-null       float64\n",
      " 11  ptHasGA           825564 non-null  bool   \n",
      " 12  ptHasHalbtax      825564 non-null  bool   \n",
      " 13  ptHasStrecke      825564 non-null  bool   \n",
      " 14  ptHasVerbund      825564 non-null  bool   \n",
      " 15  sex               825564 non-null  object \n",
      " 16  spRegion          825564 non-null  int64  \n",
      " 17  postcode          825564 non-null  int64  \n",
      " 18  canton            825564 non-null  object \n",
      " 19  local             825564 non-null  object \n",
      " 20  municipality      825564 non-null  object \n",
      " 21  muni_index        825564 non-null  int64  \n",
      " 22  wgs84_e           825564 non-null  float64\n",
      " 23  wgs84_n           825564 non-null  float64\n",
      " 24  agent_index       825564 non-null  int64  \n",
      "dtypes: bool(6), float64(6), int64(6), object(7)\n",
      "memory usage: 124.4+ MB\n",
      "None\n",
      "        id  age bikeAvailability carAvail  employed hasLicense     home_x  \\\n",
      "0  1069770   85         FOR_NONE    never     False         no  2569239.0   \n",
      "1  1103868   85         FOR_NONE    never     False         no  2569239.0   \n",
      "2  1110921   76          FOR_ALL   always      True        yes  2569193.0   \n",
      "3  1110922   70          FOR_ALL    never     False        yes  2569193.0   \n",
      "4  1111181   61          FOR_ALL   always     False        yes  2569340.0   \n",
      "\n",
      "      home_y  householdIncome  isCarPassenger  ...  sex  spRegion  postcode  \\\n",
      "0  1190194.0              NaN           False  ...    f         3      1580   \n",
      "1  1190194.0              NaN           False  ...    f         3      1580   \n",
      "2  1189751.0              NaN           False  ...    m         3      1580   \n",
      "3  1189751.0              NaN           False  ...    f         3      1580   \n",
      "4  1189900.0              NaN           False  ...    f         3      1580   \n",
      "\n",
      "   canton     local municipality  muni_index   wgs84_e    wgs84_n agent_index  \n",
      "0      VD  Avenches     Avenches        5451  7.040607  46.880248           0  \n",
      "1      VD  Avenches     Avenches        5451  7.040607  46.880248          12  \n",
      "2      VD  Avenches     Avenches        5451  7.040607  46.880248          16  \n",
      "3      VD  Avenches     Avenches        5451  7.040607  46.880248          17  \n",
      "4      VD  Avenches     Avenches        5451  7.040607  46.880248          18  \n",
      "\n",
      "[5 rows x 25 columns]\n"
     ]
    }
   ],
   "source": [
    "print(\"Population Data:\")\n",
    "print(population_df.info())\n",
    "print(population_df.head())"
   ]
  },
  {
   "cell_type": "code",
   "execution_count": 14,
   "metadata": {},
   "outputs": [
    {
     "name": "stdout",
     "output_type": "stream",
     "text": [
      "Trip Data:\n",
      "<class 'pandas.core.frame.DataFrame'>\n",
      "RangeIndex: 3629442 entries, 0 to 3629441\n",
      "Data columns (total 12 columns):\n",
      " #   Column            Dtype \n",
      "---  ------            ----- \n",
      " 0   Unnamed: 0        int64 \n",
      " 1   id                int64 \n",
      " 2   mode              object\n",
      " 3   dep_time          object\n",
      " 4   trav_time         object\n",
      " 5   start_link        object\n",
      " 6   end_link          object\n",
      " 7   transitRouteId    object\n",
      " 8   boardingTime      object\n",
      " 9   transitLineId     object\n",
      " 10  accessFacilityId  object\n",
      " 11  egressFacilityId  object\n",
      "dtypes: int64(2), object(10)\n",
      "memory usage: 332.3+ MB\n",
      "None\n",
      "   Unnamed: 0       id  mode  dep_time trav_time start_link end_link  \\\n",
      "0      345939  1069770  walk  09:23:32  00:45:38     399007   244909   \n",
      "1      345940  1069770  walk  10:09:10  00:45:38     244909   399007   \n",
      "2      345941  1069770  walk  10:54:48  00:16:15     399007   399013   \n",
      "3      345942  1069770  walk  11:11:03  00:16:15     399013   399007   \n",
      "4      354968  1071953   car  15:24:50  00:30:54     136934    28368   \n",
      "\n",
      "  transitRouteId boardingTime transitLineId accessFacilityId egressFacilityId  \n",
      "0            NaN          NaN           NaN              NaN              NaN  \n",
      "1            NaN          NaN           NaN              NaN              NaN  \n",
      "2            NaN          NaN           NaN              NaN              NaN  \n",
      "3            NaN          NaN           NaN              NaN              NaN  \n",
      "4            NaN          NaN           NaN              NaN              NaN  \n"
     ]
    }
   ],
   "source": [
    "print(\"Trip Data:\")\n",
    "print(trip_df.info())\n",
    "print(trip_df.head())"
   ]
  },
  {
   "cell_type": "markdown",
   "metadata": {},
   "source": [
    "### Analyses the files"
   ]
  },
  {
   "cell_type": "markdown",
   "metadata": {},
   "source": [
    "##### 1) Activities"
   ]
  },
  {
   "cell_type": "code",
   "execution_count": 69,
   "metadata": {},
   "outputs": [
    {
     "data": {
      "text/plain": [
       "type\n",
       "education          138568\n",
       "home              1906623\n",
       "leisure            419003\n",
       "other              235921\n",
       "pt interaction          0\n",
       "shop               263958\n",
       "work               444575\n",
       "Name: facility, dtype: int64"
      ]
     },
     "execution_count": 69,
     "metadata": {},
     "output_type": "execute_result"
    }
   ],
   "source": [
    "activity_df.groupby('type')['facility'].count().head(10)"
   ]
  },
  {
   "cell_type": "code",
   "execution_count": 32,
   "metadata": {},
   "outputs": [
    {
     "data": {
      "image/png": "[encoded data removed]",
      "text/plain": [
       "<Figure size 700x400 with 1 Axes>"
      ]
     },
     "metadata": {},
     "output_type": "display_data"
    }
   ],
   "source": [
    "plt.figure(figsize=(7,4))\n",
    "sns.histplot(activity_df['type'])\n",
    "plt.title('Distribution of activities')\n",
    "plt.show()"
   ]
  },
  {
   "cell_type": "code",
   "execution_count": 70,
   "metadata": {},
   "outputs": [],
   "source": [
    "def count_facilities_in_local(activity_df, local, population_df):\n",
    "    # Find the coordinate range corresponding to the specified local\n",
    "    local_df = population_df[population_df['local'] == local]\n",
    "    min_x, max_x = local_df['home_x'].min(), local_df['home_x'].max()\n",
    "    min_y, max_y = local_df['home_y'].min(), local_df['home_y'].max()\n",
    "    \n",
    "    # Filter the activity_df using the coordinate range\n",
    "    filtered_df = activity_df[(activity_df['x'] >= min_x) & (activity_df['x'] <= max_x) &\n",
    "                              (activity_df['y'] >= min_y) & (activity_df['y'] <= max_y)]\n",
    "    \n",
    "    # Count the number of facilities per type inside the coordinate range\n",
    "    count_df = filtered_df.groupby('type')['facility'].count().reset_index()\n",
    "    count_df.columns = ['Facility Type', 'Count']\n",
    "    \n",
    "    return count_df"
   ]
  },
  {
   "cell_type": "code",
   "execution_count": 91,
   "metadata": {},
   "outputs": [
    {
     "name": "stdout",
     "output_type": "stream",
     "text": [
      "\n",
      "Here's the count of facilities by types in Lausanne :\n",
      "    Facility Type   Count\n",
      "0       education   34085\n",
      "1            home  433579\n",
      "2         leisure   78156\n",
      "3           other   40320\n",
      "4  pt interaction       0\n",
      "5            shop   56145\n",
      "6            work  132032\n",
      "\n",
      "Here's the count of facilities by types in Cheseaux-Noréaz :\n",
      "    Facility Type  Count\n",
      "0       education   7127\n",
      "1            home  79726\n",
      "2         leisure  11850\n",
      "3           other   6886\n",
      "4  pt interaction      0\n",
      "5            shop   9310\n",
      "6            work  16011\n",
      "\n",
      "Here's the count of facilities by types in Renens VD :\n",
      "    Facility Type  Count\n",
      "0       education   4470\n",
      "1            home  79853\n",
      "2         leisure  12637\n",
      "3           other   6660\n",
      "4  pt interaction      0\n",
      "5            shop  10006\n",
      "6            work  15735\n",
      "\n",
      "Here's the count of facilities by types in Nyon :\n",
      "    Facility Type  Count\n",
      "0       education   6288\n",
      "1            home  53234\n",
      "2         leisure   8390\n",
      "3           other   4608\n",
      "4  pt interaction      0\n",
      "5            shop   5659\n",
      "6            work  14270\n",
      "\n",
      "Here's the count of facilities by types in Vevey :\n",
      "    Facility Type  Count\n",
      "0       education   3254\n",
      "1            home  61702\n",
      "2         leisure   7541\n",
      "3           other   4145\n",
      "4  pt interaction      0\n",
      "5            shop   6942\n",
      "6            work  15472\n"
     ]
    }
   ],
   "source": [
    "localities = population_df.groupby(['local']).count()['id'].sort_values(ascending=False).head(5).index\n",
    "for local in localities:\n",
    "    count_df = count_facilities_in_local(activity_df, local, population_df)\n",
    "    print(f\"\\nHere's the count of facilities by types in {local} :\")\n",
    "    print(count_df)"
   ]
  },
  {
   "cell_type": "markdown",
   "metadata": {},
   "source": [
    "##### 2) Population of Vaud"
   ]
  },
  {
   "cell_type": "code",
   "execution_count": 54,
   "metadata": {},
   "outputs": [
    {
     "data": {
      "image/png": "[encoded data removed]",
      "text/plain": [
       "<Figure size 700x400 with 1 Axes>"
      ]
     },
     "metadata": {},
     "output_type": "display_data"
    }
   ],
   "source": [
    "plt.figure(figsize=(7,4))\n",
    "sns.histplot(population_df['local'])\n",
    "plt.title('Distribution of cantons')\n",
    "plt.show()"
   ]
  },
  {
   "cell_type": "code",
   "execution_count": 64,
   "metadata": {},
   "outputs": [
    {
     "name": "stdout",
     "output_type": "stream",
     "text": [
      "Count in local : \n",
      "\n",
      "local\n",
      "Lausanne              139392\n",
      "Cheseaux-Noréaz        32372\n",
      "Renens VD              24196\n",
      "Nyon                   21597\n",
      "Vevey                  21217\n",
      "Pully                  19718\n",
      "Morges                 17443\n",
      "Jouxtens-Mézery        14887\n",
      "Chavannes-des-Bois     14506\n",
      "Gland                  13016\n",
      "Name: id, dtype: int64\n",
      "\n",
      "Count in municipality :\n"
     ]
    },
    {
     "data": {
      "text/plain": [
       "municipality\n",
       "Lausanne              142041\n",
       "Cheseaux-Noréaz        32372\n",
       "Montreux               26761\n",
       "Renens (VD)            24196\n",
       "Nyon                   21597\n",
       "Vevey                  21217\n",
       "Pully                  19887\n",
       "Morges                 17443\n",
       "Jouxtens-Mézery        14887\n",
       "Chavannes-des-Bois     14506\n",
       "Name: id, dtype: int64"
      ]
     },
     "execution_count": 64,
     "metadata": {},
     "output_type": "execute_result"
    }
   ],
   "source": [
    "print(\"Count in local : \\n\")\n",
    "print(population_df.groupby(['local']).count()['id'].sort_values(ascending=False).head(10))\n",
    "print(\"\\nCount in municipality :\")\n",
    "population_df.groupby(['municipality']).count()['id'].sort_values(ascending=False).head(10)\n",
    "# 2e resultat est bizarre\n",
    "# sinon c'est tjrs un peu over estimating mais coherent"
   ]
  },
  {
   "cell_type": "code",
   "execution_count": 59,
   "metadata": {},
   "outputs": [
    {
     "name": "stdout",
     "output_type": "stream",
     "text": [
      "Unique Postcodes:  321\n",
      "Unique Locals:  314\n",
      "Unique Municipalities:  251\n",
      "    postcode                 local          municipality\n",
      "0       1580              Avenches              Avenches\n",
      "9       1085              Vulliens              Vulliens\n",
      "14      1584      Villars-le-Grand        Vully-les-Lacs\n",
      "79      1512  Chavannes-sur-Moudon  Chavannes-sur-Moudon\n",
      "86      1612              Ecoteaux                  Oron\n"
     ]
    }
   ],
   "source": [
    "# Viewing unique values for each column\n",
    "print(\"Unique Postcodes: \", population_df['postcode'].nunique())\n",
    "print(\"Unique Locals: \", population_df['local'].nunique())\n",
    "print(\"Unique Municipalities: \", population_df['municipality'].nunique())\n",
    "\n",
    "# Viewing some samples to understand the relationship\n",
    "print(population_df[['postcode', 'local', 'municipality']].drop_duplicates().head())\n"
   ]
  },
  {
   "cell_type": "code",
   "execution_count": 65,
   "metadata": {},
   "outputs": [
    {
     "data": {
      "text/plain": [
       "42.0"
      ]
     },
     "execution_count": 65,
     "metadata": {},
     "output_type": "execute_result"
    }
   ],
   "source": [
    "population_df['age'].mean().round()"
   ]
  },
  {
   "cell_type": "markdown",
   "metadata": {},
   "source": [
    "##### 3) Trips"
   ]
  },
  {
   "cell_type": "markdown",
   "metadata": {},
   "source": []
  }
 ],
 "metadata": {
  "kernelspec": {
   "display_name": "nlp_a1",
   "language": "python",
   "name": "python3"
  },
  "language_info": {
   "codemirror_mode": {
    "name": "ipython",
    "version": 3
   },
   "file_extension": ".py",
   "mimetype": "text/x-python",
   "name": "python",
   "nbconvert_exporter": "python",
   "pygments_lexer": "ipython3",
   "version": "3.9.16"
  },
  "orig_nbformat": 4
 },
 "nbformat": 4,
 "nbformat_minor": 2
}
