{
 "cells": [
  {
   "cell_type": "code",
   "execution_count": 2,
   "metadata": {},
   "outputs": [],
   "source": [
    "import pandas as pd\n",
    "import gzip\n",
    "from datetime import datetime, timedelta\n",
    "import matplotlib.pyplot as plt\n",
    "import random\n",
    "import numpy as np"
   ]
  },
  {
   "cell_type": "code",
   "execution_count": 3,
   "metadata": {},
   "outputs": [],
   "source": [
    "LOCAL = 'Avenches'\n",
    "# LOCAL = 'Lausanne'\n",
    "activity_types = ['work', 'education', 'leisure', 'shop']"
   ]
  },
  {
   "cell_type": "code",
   "execution_count": 4,
   "metadata": {},
   "outputs": [],
   "source": [
    "def round_to_horizon(t):\n",
    "    \"\"\" Help to round a time to 5m intervals \"\"\"\n",
    "    # Convert datetime.time to datetime.datetime for calculations\n",
    "    dt = datetime.combine(datetime.today(), t)\n",
    "    \n",
    "    # Find the number of seconds since midnight\n",
    "    seconds_since_midnight = (dt - dt.replace(hour=0, minute=0, second=0, microsecond=0)).seconds\n",
    "\n",
    "    # Round to the closest 5 minutes (300 seconds)\n",
    "    rounded_seconds = round(seconds_since_midnight / 300) * 300\n",
    "    rounded_dt = dt.replace(hour=0, minute=0, second=0) + timedelta(seconds=rounded_seconds)\n",
    "\n",
    "    return rounded_dt.time()\n",
    "\n",
    "def time_to_horizon_interval(t):\n",
    "    \"\"\" Return time horizon corresponding to a timestamp \"\"\"\n",
    "    rounded_time = round_to_horizon(t)\n",
    "    \n",
    "    # Convert datetime.time to datetime.datetime for calculations\n",
    "    dt = datetime.combine(datetime.today(), rounded_time)\n",
    "    \n",
    "    # Get total minutes since midnight\n",
    "    minutes_since_midnight = (dt - dt.replace(hour=0, minute=0, second=0)).seconds // 60\n",
    "\n",
    "    # Convert total minutes to horizon intervals (5 minute intervals)\n",
    "    horizon_interval = minutes_since_midnight // 5\n",
    "\n",
    "    return horizon_interval\n",
    "\n",
    "def convert_to_time(value):\n",
    "    \"\"\" Check that all time values are correct (hours<24)\"\"\"\n",
    "    try:\n",
    "        # Try converting the value to datetime and extract the time\n",
    "        return pd.to_datetime(value).time()\n",
    "    except:\n",
    "        # Return a placeholder for out-of-range values\n",
    "        return 1"
   ]
  },
  {
   "cell_type": "code",
   "execution_count": 5,
   "metadata": {},
   "outputs": [],
   "source": [
    "activity_file_path = 'Data/Original/vaud_activities.csv.gz'\n",
    "population_file_path = 'Data/Original/vaud_population.csv.gz'\n",
    "\n",
    "def read_gzipped_csv(file_path):\n",
    "    with gzip.open(file_path, 'rt') as file:\n",
    "        df = pd.read_csv(file)\n",
    "    return df\n",
    "\n",
    "activity_vaud = read_gzipped_csv(activity_file_path)\n",
    "population_vaud = read_gzipped_csv(population_file_path)[['id', 'age', 'home_x', 'home_y', 'local', 'employed', 'sex']]"
   ]
  },
  {
   "cell_type": "code",
   "execution_count": 6,
   "metadata": {},
   "outputs": [],
   "source": [
    "population_local = population_vaud[population_vaud['local'] == LOCAL] \n",
    "population_local_ids = population_local['id'].unique()\n",
    "activity_local = activity_vaud[activity_vaud['id'].isin(population_local_ids)]\n",
    "activity_local_filt = activity_local[~activity_local['type'].isin(['other', 'pt interaction', 'home'])] "
   ]
  },
  {
   "cell_type": "markdown",
   "metadata": {},
   "source": [
    "## Work facilities distribution"
   ]
  },
  {
   "cell_type": "code",
   "execution_count": 7,
   "metadata": {},
   "outputs": [
    {
     "name": "stdout",
     "output_type": "stream",
     "text": [
      "There is 791 work facilities in Avenches\n"
     ]
    }
   ],
   "source": [
    "work_facilities = activity_local[activity_local['type'] == 'work'] \n",
    "print(f\"There is {work_facilities['facility'].nunique()} work facilities in {LOCAL}\")\n",
    "work_facilities_count = work_facilities.groupby('facility')['id'].count().sort_values(ascending=True)\n",
    "# print(work_facilities_count)\n",
    "# work_facilities.head()"
   ]
  },
  {
   "cell_type": "code",
   "execution_count": 8,
   "metadata": {},
   "outputs": [],
   "source": [
    "# # work_facilities_count = work_facilities_count[:-1]\n",
    "# # Tracer l'histogramme\n",
    "# plt.figure(figsize=(10, 6))\n",
    "# plt.hist(work_facilities_count, bins=30, edgecolor='black', alpha=0.7)\n",
    "\n",
    "# # Ajouter des titres et des labels\n",
    "# plt.title(f'Distribution of Workers per Work Facility in {LOCAL}')\n",
    "# plt.xlabel('Number of Workers per Facility')\n",
    "# plt.ylabel('Number of Facilities')\n",
    "\n",
    "# # Afficher l'histogramme\n",
    "# plt.show()"
   ]
  },
  {
   "cell_type": "code",
   "execution_count": 9,
   "metadata": {},
   "outputs": [],
   "source": [
    "# # Créer le diagramme à barres\n",
    "# plt.figure(figsize=(15, 30))  # Vous devrez peut-être ajuster la taille pour la lisibilité\n",
    "# plt.barh(work_facilities_count.index.astype(str), work_facilities_count.values, color='skyblue')\n",
    "# plt.xlabel('Number of Workers')\n",
    "# plt.ylabel('Facility ID')\n",
    "# plt.title(f'Number of Workers in Each Work Facility in {LOCAL}')\n",
    "# plt.grid(axis='x')\n",
    "\n",
    "# # Afficher le graphique\n",
    "# plt.show()"
   ]
  },
  {
   "cell_type": "code",
   "execution_count": 10,
   "metadata": {},
   "outputs": [
    {
     "name": "stdout",
     "output_type": "stream",
     "text": [
      "Établissement choisi : 375577\n",
      "Nombre de travailleurs dans l'établissement choisi : 9\n"
     ]
    }
   ],
   "source": [
    "# Supposons que work_facilities_count est votre DataFrame avec 'facility' comme index et un comptage des travailleurs comme valeurs\n",
    "facilities = work_facilities_count.index.tolist()\n",
    "workers = work_facilities_count.tolist()\n",
    "\n",
    "# Choisir un établissement aléatoirement, avec le nombre de travailleurs comme poids\n",
    "chosen_facility = random.choices(facilities, weights=workers, k=1)[0]\n",
    "\n",
    "# Trouver le nombre de travailleurs dans l'établissement choisi\n",
    "num_workers_in_chosen_facility = work_facilities_count.loc[chosen_facility]\n",
    "\n",
    "print(f\"Établissement choisi : {chosen_facility}\")\n",
    "print(f\"Nombre de travailleurs dans l'établissement choisi : {num_workers_in_chosen_facility}\")"
   ]
  },
  {
   "cell_type": "markdown",
   "metadata": {},
   "source": [
    "## Start / duration times distribution of each sub-population"
   ]
  },
  {
   "cell_type": "code",
   "execution_count": 11,
   "metadata": {},
   "outputs": [],
   "source": [
    "pd.set_option('mode.chained_assignment', None)\n",
    "\n",
    "# Assuming 'start_time' and 'end_time' are in a format recognized by pandas (like 'HH:MM:SS')\n",
    "activity_local_filt['start_time'] = pd.to_timedelta(activity_local_filt['start_time'].astype(str))\n",
    "activity_local_filt['end_time'] = pd.to_timedelta(activity_local_filt['end_time'].astype(str))\n",
    "\n",
    "# Filter out any NaT values or times that are not within the correct range\n",
    "# For example, checking that 'start_time' and 'end_time' are less than 24 hours\n",
    "activity_local_filt = activity_local_filt[\n",
    "    (activity_local_filt['start_time'] < pd.Timedelta('1 days')) &\n",
    "    (activity_local_filt['end_time'] < pd.Timedelta('1 days'))\n",
    "]\n",
    "\n",
    "# Convert 'start_time' and 'end_time' to 'datetime.time' if they are within a single day.\n",
    "activity_local_filt['start_time'] = activity_local_filt['start_time'].apply(\n",
    "    lambda x: (datetime.min + x).time() if isinstance(x, pd.Timedelta) and x < pd.Timedelta(days=1) else x\n",
    ")\n",
    "activity_local_filt['end_time'] = activity_local_filt['end_time'].apply(\n",
    "    lambda x: (datetime.min + x).time() if isinstance(x, pd.Timedelta) and x < pd.Timedelta(days=1) else x\n",
    ")\n",
    "\n",
    "activity_local_filt['start_time_interval'] = activity_local_filt['start_time'].apply(time_to_horizon_interval)\n",
    "activity_local_filt['end_time_interval'] = activity_local_filt['end_time'].apply(time_to_horizon_interval)\n",
    "activity_local_filt['duration_interval'] = activity_local_filt['end_time_interval'] - activity_local_filt['start_time_interval']\n",
    "\n",
    "# print(len(activity_local_filt))\n",
    "# activity_local_filt.head()\n",
    "# population_local.head()"
   ]
  },
  {
   "cell_type": "code",
   "execution_count": 12,
   "metadata": {},
   "outputs": [],
   "source": [
    "# plot age distribution \n",
    "\n",
    "# Get the individuals id of this 8 sub population : \n",
    "# divide population in 4 age range\n",
    "# divide each of this sub-population in 2 (employed = True vs False) \n",
    "\n",
    "# for each sub population\n",
    "    # for each activity\n",
    "        # count the number of row by start_time_interval (distribution)\n",
    "        # count the number of row by duration_interval (distribution)\n",
    "\n",
    "# for each individual\n",
    "    # identify its subpopulation\n",
    "    # for each activity\n",
    "        # pick a start_time_interval in the corresponding distribution calculated before\n",
    "        # pick a duration_interval in the corresponding distribution calculated before"
   ]
  },
  {
   "cell_type": "code",
   "execution_count": 13,
   "metadata": {},
   "outputs": [],
   "source": [
    "# population_local['age'].hist(bins=50)  # Ajuster le nombre de 'bins' selon le besoin\n",
    "# plt.title('Distribution of Age')\n",
    "# plt.xlabel('Age')\n",
    "# plt.ylabel('Frequency')\n",
    "# plt.show()"
   ]
  },
  {
   "cell_type": "code",
   "execution_count": 14,
   "metadata": {},
   "outputs": [],
   "source": [
    "# ranges = ['0-20', '21-40', '41-65', '66-100']\n",
    "# Création des sous-populations\n",
    "id_range1 = population_local[(population_local['age'] >= 0) & (population_local['age'] <= 18)]\n",
    "id_range2_emp = population_local[(population_local['age'] >= 19) & (population_local['age'] <= 35) & (population_local['employed'] == True)]\n",
    "id_range3_emp = population_local[(population_local['age'] >= 36) & (population_local['age'] <= 65) & (population_local['employed'] == True)]\n",
    "id_range4_emp = population_local[(population_local['age'] >= 66) & (population_local['age'] <= 100) & (population_local['employed'] == True)]\n",
    "id_range2_unemp = population_local[(population_local['age'] >= 21) & (population_local['age'] <= 40) & (population_local['employed'] == False)]\n",
    "id_range3_unemp = population_local[(population_local['age'] >= 41) & (population_local['age'] <= 65) & (population_local['employed'] == False)]\n",
    "id_range4_unemp = population_local[(population_local['age'] >= 66) & (population_local['age'] <= 100) & (population_local['employed'] == False)]\n",
    "# id_range1.head()"
   ]
  },
  {
   "cell_type": "code",
   "execution_count": 15,
   "metadata": {},
   "outputs": [],
   "source": [
    "def calculate_distributions(sub_population, activity_local_filt):\n",
    "    '''Fonction pour calculer la distribution des intervalles de temps de début et de durée\n",
    "    Returns a dictionary distributions['start_time_interval'] = count // distributions['duration_interval'] = count'''\n",
    "    distributions = {}\n",
    "    sub_population_ids = sub_population['id'].unique()\n",
    "    filtered_activities = activity_local_filt[activity_local_filt['id'].isin(sub_population_ids)]\n",
    "\n",
    "    for activity_type in filtered_activities['type'].unique():\n",
    "        activity_data = filtered_activities[filtered_activities['type'] == activity_type]\n",
    "        start_dist = activity_data['start_time_interval'].value_counts(normalize=True)\n",
    "        duration_dist = activity_data['duration_interval'].value_counts(normalize=True)\n",
    "        distributions[activity_type] = {'start': start_dist, 'duration': duration_dist}\n",
    "    \n",
    "    return distributions\n",
    "\n",
    "def get_subpopulation_id(person):\n",
    "    age, employed = person['age'], person['employed']\n",
    "    if age <= 18:\n",
    "        return 'range1'\n",
    "    elif age <= 35:\n",
    "        return 'range2_emp' if employed else 'range2_unemp'\n",
    "    elif age <= 65:\n",
    "        return 'range3_emp' if employed else 'range3_unemp'\n",
    "    else:\n",
    "        return 'range4_emp' if employed else 'range4_unemp'\n",
    "\n",
    "# Calculer les distributions pour chaque sous-population\n",
    "distributions = {\n",
    "    'range1': calculate_distributions(id_range1, activity_local_filt),\n",
    "    'range2_emp': calculate_distributions(id_range2_emp, activity_local_filt),\n",
    "    'range3_emp': calculate_distributions(id_range3_emp, activity_local_filt),\n",
    "    'range4_emp': calculate_distributions(id_range4_emp, activity_local_filt),\n",
    "    'range2_unemp': calculate_distributions(id_range2_unemp, activity_local_filt),\n",
    "    'range3_unemp': calculate_distributions(id_range3_unemp, activity_local_filt),\n",
    "    'range4_unemp': calculate_distributions(id_range4_unemp, activity_local_filt),\n",
    "}\n",
    "# print(distributions['range4_emp'])"
   ]
  },
  {
   "cell_type": "code",
   "execution_count": 16,
   "metadata": {},
   "outputs": [],
   "source": [
    "# Initialisation des colonnes pour les durées et heures de début d'activité\n",
    "for activity_type in activity_types:\n",
    "    population_local[f'{activity_type}_start'] = 0\n",
    "    population_local[f'{activity_type}_dur'] = 0\n",
    "\n",
    "# Pour chaque individu et activity type, choisir aléatoirement un intervalle de temps de début et de durée\n",
    "for index, person in population_local.iterrows():\n",
    "    subpop_id = get_subpopulation_id(person)\n",
    "    for activity_type, dist in distributions[subpop_id].items():\n",
    "        chosen_start = np.random.choice(dist['start'].index, p=dist['start'].values)\n",
    "        chosen_duration = np.random.choice(dist['duration'].index, p=dist['duration'].values)\n",
    "        if subpop_id == 'range1' and activity_type == 'work':\n",
    "            chosen_start = 0\n",
    "            chosen_duration = 0\n",
    "        population_local.at[index, f'{activity_type}_start'] = chosen_start\n",
    "        population_local.at[index, f'{activity_type}_dur'] = chosen_duration\n",
    "    \n",
    "# population_local.sort_values('age').head(30)\n",
    "# population_local.head(40)"
   ]
  },
  {
   "cell_type": "markdown",
   "metadata": {},
   "source": [
    "# Distance work / home"
   ]
  },
  {
   "cell_type": "markdown",
   "metadata": {},
   "source": [
    "### Ours"
   ]
  },
  {
   "cell_type": "code",
   "execution_count": 17,
   "metadata": {},
   "outputs": [],
   "source": [
    "# population_local_sample = population_vaud[population_vaud['local'] == LOCAL] \n",
    "# # Drop rows where any of the required columns have NaNs\n",
    "# population_local_sample.dropna(subset=['home_x', 'home_y', 'work_x', 'work_y'], inplace=True)\n",
    "\n",
    "# # Now apply the distance calculation\n",
    "# population_local_sample['distance_H2W'] = np.sqrt(\n",
    "#     (population_local_sample['home_x'] - population_local_sample['work_x'])**2 +\n",
    "#     (population_local_sample['home_y'] - population_local_sample['work_y'])**2\n",
    "# )\n",
    "# population_local_sample['distance_H2W'].mean()"
   ]
  },
  {
   "cell_type": "code",
   "execution_count": 18,
   "metadata": {},
   "outputs": [],
   "source": [
    "# import matplotlib.pyplot as plt\n",
    "# # Plot the distribution of distance\n",
    "# plt.figure(figsize=(10, 6))\n",
    "# plt.hist(population_local_sample['distance_H2W'], bins=30, alpha=0.7, color='blue')\n",
    "# plt.title('Distribution of Distance from Home to Work')\n",
    "# plt.xlabel('Distance')\n",
    "# plt.ylabel('Frequency')\n",
    "# plt.grid(True)\n",
    "# plt.show()\n",
    "\n",
    "# # Plot the boxplot of the distance\n",
    "# plt.figure(figsize=(10, 2))\n",
    "# plt.boxplot(population_local_sample['distance_H2W'].dropna(), vert=False)  # Drop NA values for boxplot\n",
    "# plt.title('Boxplot of Distance from Home to Work')\n",
    "# plt.xlabel('Distance')\n",
    "# plt.grid(True)\n",
    "# plt.show()"
   ]
  },
  {
   "cell_type": "markdown",
   "metadata": {},
   "source": [
    "### Real one"
   ]
  },
  {
   "cell_type": "code",
   "execution_count": null,
   "metadata": {},
   "outputs": [],
   "source": []
  },
  {
   "cell_type": "markdown",
   "metadata": {},
   "source": [
    "# Travel speed study"
   ]
  },
  {
   "cell_type": "code",
   "execution_count": 20,
   "metadata": {},
   "outputs": [
    {
     "data": {
      "text/html": [
       "<div>\n",
       "<style scoped>\n",
       "    .dataframe tbody tr th:only-of-type {\n",
       "        vertical-align: middle;\n",
       "    }\n",
       "\n",
       "    .dataframe tbody tr th {\n",
       "        vertical-align: top;\n",
       "    }\n",
       "\n",
       "    .dataframe thead th {\n",
       "        text-align: right;\n",
       "    }\n",
       "</style>\n",
       "<table border=\"1\" class=\"dataframe\">\n",
       "  <thead>\n",
       "    <tr style=\"text-align: right;\">\n",
       "      <th></th>\n",
       "      <th>mode</th>\n",
       "      <th>trav_time</th>\n",
       "      <th>start_link</th>\n",
       "      <th>end_link</th>\n",
       "    </tr>\n",
       "  </thead>\n",
       "  <tbody>\n",
       "    <tr>\n",
       "      <th>3494280</th>\n",
       "      <td>pt</td>\n",
       "      <td>00:42:15</td>\n",
       "      <td>273206</td>\n",
       "      <td>392575</td>\n",
       "    </tr>\n",
       "    <tr>\n",
       "      <th>2935267</th>\n",
       "      <td>walk</td>\n",
       "      <td>00:00:51</td>\n",
       "      <td>480611</td>\n",
       "      <td>502501</td>\n",
       "    </tr>\n",
       "    <tr>\n",
       "      <th>1358225</th>\n",
       "      <td>car</td>\n",
       "      <td>00:03:46</td>\n",
       "      <td>491191</td>\n",
       "      <td>1039210</td>\n",
       "    </tr>\n",
       "    <tr>\n",
       "      <th>1136720</th>\n",
       "      <td>car</td>\n",
       "      <td>00:05:10</td>\n",
       "      <td>817340</td>\n",
       "      <td>297310</td>\n",
       "    </tr>\n",
       "    <tr>\n",
       "      <th>1153354</th>\n",
       "      <td>walk</td>\n",
       "      <td>00:00:00</td>\n",
       "      <td>729547</td>\n",
       "      <td>120828</td>\n",
       "    </tr>\n",
       "  </tbody>\n",
       "</table>\n",
       "</div>"
      ],
      "text/plain": [
       "         mode trav_time start_link end_link\n",
       "3494280    pt  00:42:15     273206   392575\n",
       "2935267  walk  00:00:51     480611   502501\n",
       "1358225   car  00:03:46     491191  1039210\n",
       "1136720   car  00:05:10     817340   297310\n",
       "1153354  walk  00:00:00     729547   120828"
      ]
     },
     "execution_count": 20,
     "metadata": {},
     "output_type": "execute_result"
    }
   ],
   "source": [
    "DATA_PATH = \"Data/Original/\"\n",
    "trip_file = DATA_PATH +'vaud_trips.csv.gz'\n",
    "\n",
    "def read_gzipped_csv(file_path):\n",
    "    with gzip.open(file_path, 'rt') as file:\n",
    "        df = pd.read_csv(file)\n",
    "    return df\n",
    "\n",
    "trip_df = read_gzipped_csv(trip_file)[['mode', 'trav_time', 'start_link', 'end_link']]\n",
    "trip_df_samp = trip_df.sample(5)\n",
    "trip_df_samp.head(10)"
   ]
  },
  {
   "cell_type": "code",
   "execution_count": 21,
   "metadata": {},
   "outputs": [
    {
     "data": {
      "text/html": [
       "<div>\n",
       "<style scoped>\n",
       "    .dataframe tbody tr th:only-of-type {\n",
       "        vertical-align: middle;\n",
       "    }\n",
       "\n",
       "    .dataframe tbody tr th {\n",
       "        vertical-align: top;\n",
       "    }\n",
       "\n",
       "    .dataframe thead th {\n",
       "        text-align: right;\n",
       "    }\n",
       "</style>\n",
       "<table border=\"1\" class=\"dataframe\">\n",
       "  <thead>\n",
       "    <tr style=\"text-align: right;\">\n",
       "      <th></th>\n",
       "      <th>Unnamed: 0</th>\n",
       "      <th>id</th>\n",
       "      <th>type</th>\n",
       "      <th>facility</th>\n",
       "      <th>link</th>\n",
       "      <th>x</th>\n",
       "      <th>y</th>\n",
       "      <th>start_time</th>\n",
       "      <th>end_time</th>\n",
       "    </tr>\n",
       "  </thead>\n",
       "  <tbody>\n",
       "    <tr>\n",
       "      <th>0</th>\n",
       "      <td>423464</td>\n",
       "      <td>1069770</td>\n",
       "      <td>home</td>\n",
       "      <td>home480932</td>\n",
       "      <td>399007</td>\n",
       "      <td>2569239.0</td>\n",
       "      <td>1190194.0</td>\n",
       "      <td>NaN</td>\n",
       "      <td>09:23:32</td>\n",
       "    </tr>\n",
       "    <tr>\n",
       "      <th>1</th>\n",
       "      <td>423465</td>\n",
       "      <td>1069770</td>\n",
       "      <td>shop</td>\n",
       "      <td>168569</td>\n",
       "      <td>244909</td>\n",
       "      <td>2571696.0</td>\n",
       "      <td>1189601.0</td>\n",
       "      <td>09:25:32</td>\n",
       "      <td>09:33:32</td>\n",
       "    </tr>\n",
       "  </tbody>\n",
       "</table>\n",
       "</div>"
      ],
      "text/plain": [
       "   Unnamed: 0       id  type    facility    link          x          y  \\\n",
       "0      423464  1069770  home  home480932  399007  2569239.0  1190194.0   \n",
       "1      423465  1069770  shop      168569  244909  2571696.0  1189601.0   \n",
       "\n",
       "  start_time  end_time  \n",
       "0        NaN  09:23:32  \n",
       "1   09:25:32  09:33:32  "
      ]
     },
     "execution_count": 21,
     "metadata": {},
     "output_type": "execute_result"
    }
   ],
   "source": [
    "activity_local.head(2)\n",
    "# ocnvert to datetime, replace NAN, filter all garbage activities?"
   ]
  },
  {
   "cell_type": "code",
   "execution_count": null,
   "metadata": {},
   "outputs": [],
   "source": [
    "# Select only required columns from activity_local and rename them for clarity\n",
    "activity_local_start = activity_local[['link', 'x', 'y']].add_suffix('_start')\n",
    "activity_local_end = activity_local[['link', 'x', 'y']].add_suffix('_end')\n",
    "\n",
    "# Merge trip_df with activity_local_start\n",
    "trip_detailed = trip_df_samp.merge(activity_local_start, how='left', left_on='start_link', right_on='link_start')\n",
    "trip_detailed = trip_detailed.drop(columns=['link_start'])  # Drop the extra link column\n",
    "\n",
    "# Merge trip_detailed with activity_local_end\n",
    "trip_detailed = trip_detailed.merge(activity_local_end, how='left', left_on='end_link', right_on='link_end')\n",
    "trip_detailed = trip_detailed.drop(columns=['link_end'])  # Drop the extra link column\n",
    "\n",
    "# Display the first few rows\n",
    "trip_detailed.head()"
   ]
  },
  {
   "cell_type": "code",
   "execution_count": null,
   "metadata": {},
   "outputs": [],
   "source": []
  }
 ],
 "metadata": {
  "kernelspec": {
   "display_name": "schedule",
   "language": "python",
   "name": "python3"
  },
  "language_info": {
   "codemirror_mode": {
    "name": "ipython",
    "version": 3
   },
   "file_extension": ".py",
   "mimetype": "text/x-python",
   "name": "python",
   "nbconvert_exporter": "python",
   "pygments_lexer": "ipython3",
   "version": "3.11.0"
  }
 },
 "nbformat": 4,
 "nbformat_minor": 2
}
