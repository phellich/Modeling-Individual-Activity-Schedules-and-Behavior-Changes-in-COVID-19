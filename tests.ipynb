{
 "cells": [
  {
   "cell_type": "code",
   "execution_count": 35,
   "metadata": {},
   "outputs": [],
   "source": [
    "import pandas as pd\n",
    "import gzip\n",
    "import numpy as np"
   ]
  },
  {
   "cell_type": "code",
   "execution_count": 27,
   "metadata": {},
   "outputs": [],
   "source": [
    "LOCAL = 'Lausanne'"
   ]
  },
  {
   "cell_type": "code",
   "execution_count": 28,
   "metadata": {},
   "outputs": [
    {
     "name": "stdout",
     "output_type": "stream",
     "text": [
      "File opened and read \n",
      "\n"
     ]
    }
   ],
   "source": [
    "# Specify the file paths\n",
    "activity_file = 'data_original/vaud_activities.csv.gz'\n",
    "population_file = 'data_original/vaud_population.csv.gz'\n",
    "trip_file = 'data_original/vaud_trips.csv.gz'\n",
    "\n",
    "# Read the gzipped CSV files\n",
    "def read_gzipped_csv(file_path):\n",
    "    with gzip.open(file_path, 'rt') as file:\n",
    "        df = pd.read_csv(file)\n",
    "    return df\n",
    "\n",
    "# Read the dataframes\n",
    "activity_vaud = read_gzipped_csv(activity_file)\n",
    "population_vaud = read_gzipped_csv(population_file)[['id', 'age', 'home_x', 'home_y', 'local']].drop_duplicates()\n",
    "trip_vaud = read_gzipped_csv(trip_file)[['Unnamed: 0', 'id', 'mode', 'dep_time','trav_time','start_link','end_link']].drop_duplicates()\n",
    "\n",
    "print(\"File opened and read \\n\")"
   ]
  },
  {
   "cell_type": "code",
   "execution_count": 29,
   "metadata": {},
   "outputs": [
    {
     "data": {
      "text/html": [
       "<div>\n",
       "<style scoped>\n",
       "    .dataframe tbody tr th:only-of-type {\n",
       "        vertical-align: middle;\n",
       "    }\n",
       "\n",
       "    .dataframe tbody tr th {\n",
       "        vertical-align: top;\n",
       "    }\n",
       "\n",
       "    .dataframe thead th {\n",
       "        text-align: right;\n",
       "    }\n",
       "</style>\n",
       "<table border=\"1\" class=\"dataframe\">\n",
       "  <thead>\n",
       "    <tr style=\"text-align: right;\">\n",
       "      <th></th>\n",
       "      <th>id</th>\n",
       "      <th>age</th>\n",
       "      <th>home_x</th>\n",
       "      <th>home_y</th>\n",
       "      <th>local</th>\n",
       "    </tr>\n",
       "  </thead>\n",
       "  <tbody>\n",
       "    <tr>\n",
       "      <th>34200</th>\n",
       "      <td>6336880</td>\n",
       "      <td>30</td>\n",
       "      <td>2539957.0</td>\n",
       "      <td>1152783.0</td>\n",
       "      <td>Lausanne</td>\n",
       "    </tr>\n",
       "  </tbody>\n",
       "</table>\n",
       "</div>"
      ],
      "text/plain": [
       "            id  age     home_x     home_y     local\n",
       "34200  6336880   30  2539957.0  1152783.0  Lausanne"
      ]
     },
     "execution_count": 29,
     "metadata": {},
     "output_type": "execute_result"
    }
   ],
   "source": [
    "population_local = population_vaud[population_vaud['local'] == LOCAL]\n",
    "population_local_ids = population_local['id'].unique()\n",
    "\n",
    "population_local.head(1)"
   ]
  },
  {
   "cell_type": "code",
   "execution_count": 42,
   "metadata": {},
   "outputs": [
    {
     "data": {
      "text/html": [
       "<div>\n",
       "<style scoped>\n",
       "    .dataframe tbody tr th:only-of-type {\n",
       "        vertical-align: middle;\n",
       "    }\n",
       "\n",
       "    .dataframe tbody tr th {\n",
       "        vertical-align: top;\n",
       "    }\n",
       "\n",
       "    .dataframe thead th {\n",
       "        text-align: right;\n",
       "    }\n",
       "</style>\n",
       "<table border=\"1\" class=\"dataframe\">\n",
       "  <thead>\n",
       "    <tr style=\"text-align: right;\">\n",
       "      <th></th>\n",
       "      <th>Unnamed: 0</th>\n",
       "      <th>id</th>\n",
       "      <th>mode</th>\n",
       "      <th>dep_time</th>\n",
       "      <th>trav_time</th>\n",
       "      <th>start_link</th>\n",
       "      <th>end_link</th>\n",
       "    </tr>\n",
       "  </thead>\n",
       "  <tbody>\n",
       "    <tr>\n",
       "      <th>147102</th>\n",
       "      <td>25983202</td>\n",
       "      <td>6336880</td>\n",
       "      <td>car</td>\n",
       "      <td>07:06:35</td>\n",
       "      <td>00:10:06</td>\n",
       "      <td>290992</td>\n",
       "      <td>112618</td>\n",
       "    </tr>\n",
       "  </tbody>\n",
       "</table>\n",
       "</div>"
      ],
      "text/plain": [
       "        Unnamed: 0       id mode  dep_time trav_time start_link end_link\n",
       "147102    25983202  6336880  car  07:06:35  00:10:06     290992   112618"
      ]
     },
     "execution_count": 42,
     "metadata": {},
     "output_type": "execute_result"
    }
   ],
   "source": [
    "trip_local = trip_vaud[trip_vaud['id'].isin(population_local_ids)]\n",
    "\n",
    "trip_local.head(1)"
   ]
  },
  {
   "cell_type": "code",
   "execution_count": 31,
   "metadata": {},
   "outputs": [
    {
     "name": "stdout",
     "output_type": "stream",
     "text": [
      "Here's the count of facilities by types in Lausanne :              type  facility\n",
      "0       education       220\n",
      "1            home     70975\n",
      "2         leisure      6277\n",
      "3           other     10178\n",
      "4  pt interaction         0\n",
      "5            shop      3177\n",
      "6            work     13173\n"
     ]
    }
   ],
   "source": [
    "activity_local = activity_vaud[activity_vaud['id'].isin(population_local_ids)]\n",
    "count_act_by_types = activity_local.groupby('type')['facility'].nunique().reset_index()\n",
    "print(f\"Here's the count of facilities by types in {LOCAL} : {count_act_by_types}\")\n",
    "activity_local_filtered = activity_local[~activity_local['type'].isin(['other', 'pt interaction'])]"
   ]
  },
  {
   "cell_type": "code",
   "execution_count": 32,
   "metadata": {},
   "outputs": [
    {
     "data": {
      "text/html": [
       "<div>\n",
       "<style scoped>\n",
       "    .dataframe tbody tr th:only-of-type {\n",
       "        vertical-align: middle;\n",
       "    }\n",
       "\n",
       "    .dataframe tbody tr th {\n",
       "        vertical-align: top;\n",
       "    }\n",
       "\n",
       "    .dataframe thead th {\n",
       "        text-align: right;\n",
       "    }\n",
       "</style>\n",
       "<table border=\"1\" class=\"dataframe\">\n",
       "  <thead>\n",
       "    <tr style=\"text-align: right;\">\n",
       "      <th></th>\n",
       "      <th>Unnamed: 0</th>\n",
       "      <th>id</th>\n",
       "      <th>type</th>\n",
       "      <th>facility</th>\n",
       "      <th>link</th>\n",
       "      <th>x</th>\n",
       "      <th>y</th>\n",
       "      <th>start_time</th>\n",
       "      <th>end_time</th>\n",
       "    </tr>\n",
       "  </thead>\n",
       "  <tbody>\n",
       "    <tr>\n",
       "      <th>178740</th>\n",
       "      <td>31913071</td>\n",
       "      <td>6336880</td>\n",
       "      <td>home</td>\n",
       "      <td>home2791489</td>\n",
       "      <td>290992</td>\n",
       "      <td>2539957.0</td>\n",
       "      <td>1152783.0</td>\n",
       "      <td>NaN</td>\n",
       "      <td>07:06:35</td>\n",
       "    </tr>\n",
       "  </tbody>\n",
       "</table>\n",
       "</div>"
      ],
      "text/plain": [
       "        Unnamed: 0       id  type     facility    link          x          y  \\\n",
       "178740    31913071  6336880  home  home2791489  290992  2539957.0  1152783.0   \n",
       "\n",
       "       start_time  end_time  \n",
       "178740        NaN  07:06:35  "
      ]
     },
     "execution_count": 32,
     "metadata": {},
     "output_type": "execute_result"
    }
   ],
   "source": [
    "activity_local_filtered.head(1)"
   ]
  },
  {
   "cell_type": "code",
   "execution_count": 43,
   "metadata": {},
   "outputs": [
    {
     "name": "stdout",
     "output_type": "stream",
     "text": [
      "538099\n",
      "139392\n",
      "11540\n",
      "92245\n"
     ]
    },
    {
     "data": {
      "text/html": [
       "<div>\n",
       "<style scoped>\n",
       "    .dataframe tbody tr th:only-of-type {\n",
       "        vertical-align: middle;\n",
       "    }\n",
       "\n",
       "    .dataframe tbody tr th {\n",
       "        vertical-align: top;\n",
       "    }\n",
       "\n",
       "    .dataframe thead th {\n",
       "        text-align: right;\n",
       "    }\n",
       "</style>\n",
       "<table border=\"1\" class=\"dataframe\">\n",
       "  <thead>\n",
       "    <tr style=\"text-align: right;\">\n",
       "      <th></th>\n",
       "      <th>x</th>\n",
       "      <th>y</th>\n",
       "    </tr>\n",
       "    <tr>\n",
       "      <th>link</th>\n",
       "      <th></th>\n",
       "      <th></th>\n",
       "    </tr>\n",
       "  </thead>\n",
       "  <tbody>\n",
       "    <tr>\n",
       "      <th>1000167</th>\n",
       "      <td>2528786.0</td>\n",
       "      <td>1161402.0</td>\n",
       "    </tr>\n",
       "  </tbody>\n",
       "</table>\n",
       "</div>"
      ],
      "text/plain": [
       "                 x          y\n",
       "link                         \n",
       "1000167  2528786.0  1161402.0"
      ]
     },
     "execution_count": 43,
     "metadata": {},
     "output_type": "execute_result"
    }
   ],
   "source": [
    "print(activity_local_filtered['Unnamed: 0'].nunique()) # nb de lignes\n",
    "print(activity_local_filtered['id'].nunique()) # nb d'habitants\n",
    "print(activity_local_filtered['link'].nunique()) # nb de link\n",
    "print(activity_local_filtered['facility'].nunique()) # nb de facility\n",
    "# il a 92k facilities pour 15k link : plusieurs facility a un link\n",
    "# pourtnat les link sont pas forcement les memes coord mais bon a chaque fois tres proche\n",
    "# il faut que je fasse un dataframe des liens avec leur mean coord ou juste la 1ere apparition (groupby et mean)\n",
    "# puis ensuite sur ca je fais un merge\n",
    "link_df = activity_local_filtered[['link', 'x', 'y']]\n",
    "link_df = link_df.groupby('link').mean()\n",
    "link_df.head(1)"
   ]
  },
  {
   "cell_type": "code",
   "execution_count": 47,
   "metadata": {},
   "outputs": [
    {
     "data": {
      "text/html": [
       "<div>\n",
       "<style scoped>\n",
       "    .dataframe tbody tr th:only-of-type {\n",
       "        vertical-align: middle;\n",
       "    }\n",
       "\n",
       "    .dataframe tbody tr th {\n",
       "        vertical-align: top;\n",
       "    }\n",
       "\n",
       "    .dataframe thead th {\n",
       "        text-align: right;\n",
       "    }\n",
       "</style>\n",
       "<table border=\"1\" class=\"dataframe\">\n",
       "  <thead>\n",
       "    <tr style=\"text-align: right;\">\n",
       "      <th></th>\n",
       "      <th>Unnamed: 0</th>\n",
       "      <th>id</th>\n",
       "      <th>mode</th>\n",
       "      <th>dep_time</th>\n",
       "      <th>trav_time</th>\n",
       "      <th>start_link</th>\n",
       "      <th>end_link</th>\n",
       "      <th>start_x</th>\n",
       "      <th>start_y</th>\n",
       "      <th>end_x</th>\n",
       "      <th>end_y</th>\n",
       "    </tr>\n",
       "  </thead>\n",
       "  <tbody>\n",
       "    <tr>\n",
       "      <th>147102</th>\n",
       "      <td>25983202</td>\n",
       "      <td>6336880</td>\n",
       "      <td>car</td>\n",
       "      <td>07:06:35</td>\n",
       "      <td>00:10:06</td>\n",
       "      <td>290992</td>\n",
       "      <td>112618</td>\n",
       "      <td>2.539915e+06</td>\n",
       "      <td>1.152774e+06</td>\n",
       "      <td>2.538477e+06</td>\n",
       "      <td>1.152417e+06</td>\n",
       "    </tr>\n",
       "    <tr>\n",
       "      <th>1880518</th>\n",
       "      <td>27935067</td>\n",
       "      <td>6740390</td>\n",
       "      <td>walk</td>\n",
       "      <td>08:35:31</td>\n",
       "      <td>00:26:13</td>\n",
       "      <td>290992</td>\n",
       "      <td>112618</td>\n",
       "      <td>2.539915e+06</td>\n",
       "      <td>1.152774e+06</td>\n",
       "      <td>2.538477e+06</td>\n",
       "      <td>1.152417e+06</td>\n",
       "    </tr>\n",
       "    <tr>\n",
       "      <th>147103</th>\n",
       "      <td>25983203</td>\n",
       "      <td>6336880</td>\n",
       "      <td>car</td>\n",
       "      <td>16:51:35</td>\n",
       "      <td>00:00:00</td>\n",
       "      <td>112618</td>\n",
       "      <td>112618</td>\n",
       "      <td>2.538477e+06</td>\n",
       "      <td>1.152417e+06</td>\n",
       "      <td>2.538477e+06</td>\n",
       "      <td>1.152417e+06</td>\n",
       "    </tr>\n",
       "    <tr>\n",
       "      <th>149052</th>\n",
       "      <td>25985356</td>\n",
       "      <td>6337295</td>\n",
       "      <td>car</td>\n",
       "      <td>08:38:07</td>\n",
       "      <td>00:00:00</td>\n",
       "      <td>112618</td>\n",
       "      <td>112618</td>\n",
       "      <td>2.538477e+06</td>\n",
       "      <td>1.152417e+06</td>\n",
       "      <td>2.538477e+06</td>\n",
       "      <td>1.152417e+06</td>\n",
       "    </tr>\n",
       "    <tr>\n",
       "      <th>149053</th>\n",
       "      <td>25985357</td>\n",
       "      <td>6337295</td>\n",
       "      <td>car</td>\n",
       "      <td>09:38:07</td>\n",
       "      <td>00:00:00</td>\n",
       "      <td>112618</td>\n",
       "      <td>112618</td>\n",
       "      <td>2.538477e+06</td>\n",
       "      <td>1.152417e+06</td>\n",
       "      <td>2.538477e+06</td>\n",
       "      <td>1.152417e+06</td>\n",
       "    </tr>\n",
       "  </tbody>\n",
       "</table>\n",
       "</div>"
      ],
      "text/plain": [
       "         Unnamed: 0       id  mode  dep_time trav_time start_link end_link  \\\n",
       "147102     25983202  6336880   car  07:06:35  00:10:06     290992   112618   \n",
       "1880518    27935067  6740390  walk  08:35:31  00:26:13     290992   112618   \n",
       "147103     25983203  6336880   car  16:51:35  00:00:00     112618   112618   \n",
       "149052     25985356  6337295   car  08:38:07  00:00:00     112618   112618   \n",
       "149053     25985357  6337295   car  09:38:07  00:00:00     112618   112618   \n",
       "\n",
       "              start_x       start_y         end_x         end_y  \n",
       "147102   2.539915e+06  1.152774e+06  2.538477e+06  1.152417e+06  \n",
       "1880518  2.539915e+06  1.152774e+06  2.538477e+06  1.152417e+06  \n",
       "147103   2.538477e+06  1.152417e+06  2.538477e+06  1.152417e+06  \n",
       "149052   2.538477e+06  1.152417e+06  2.538477e+06  1.152417e+06  \n",
       "149053   2.538477e+06  1.152417e+06  2.538477e+06  1.152417e+06  "
      ]
     },
     "execution_count": 47,
     "metadata": {},
     "output_type": "execute_result"
    }
   ],
   "source": [
    "# merge with start_link\n",
    "trip_local_merged = pd.merge(trip_local, link_df, left_on='start_link', right_index=True)\n",
    "trip_local_merged.rename(columns={'x': 'start_x', 'y': 'start_y'}, inplace=True)\n",
    "\n",
    "# merge with end_link\n",
    "trip_local_merged = pd.merge(trip_local_merged, link_df, left_on='end_link', right_index=True)\n",
    "trip_local_merged.rename(columns={'x': 'end_x', 'y': 'end_y'}, inplace=True)\n",
    "\n",
    "trip_local_merged.head()\n",
    "\n",
    "# pour chaque tripreer une nouvelle colonne avcec direct la distance calcule from le df des activities"
   ]
  },
  {
   "cell_type": "code",
   "execution_count": 55,
   "metadata": {},
   "outputs": [
    {
     "name": "stdout",
     "output_type": "stream",
     "text": [
      "         Unnamed: 0       id  mode  dep_time       trav_time start_link  \\\n",
      "147102     25983202  6336880   car  07:06:35 0 days 00:10:06     290992   \n",
      "1880518    27935067  6740390  walk  08:35:31 0 days 00:26:13     290992   \n",
      "147103     25983203  6336880   car  16:51:35 0 days 00:00:00     112618   \n",
      "149052     25985356  6337295   car  08:38:07 0 days 00:00:00     112618   \n",
      "149053     25985357  6337295   car  09:38:07 0 days 00:00:00     112618   \n",
      "\n",
      "        end_link       start_x       start_y         end_x         end_y  \\\n",
      "147102    112618  2.539915e+06  1.152774e+06  2.538477e+06  1.152417e+06   \n",
      "1880518   112618  2.539915e+06  1.152774e+06  2.538477e+06  1.152417e+06   \n",
      "147103    112618  2.538477e+06  1.152417e+06  2.538477e+06  1.152417e+06   \n",
      "149052    112618  2.538477e+06  1.152417e+06  2.538477e+06  1.152417e+06   \n",
      "149053    112618  2.538477e+06  1.152417e+06  2.538477e+06  1.152417e+06   \n",
      "\n",
      "            distance  average_speed  \n",
      "147102   1481.858609       8.803120  \n",
      "1880518  1481.858609       3.391412  \n",
      "147103      0.000000            NaN  \n",
      "149052      0.000000            NaN  \n",
      "149053      0.000000            NaN  \n",
      "Average durations of trips in Lausanne : 0 days 00:10:32.118171749m\n",
      "Average Distance: 3.71 km\n",
      "Overall Average Speed: inf km/h\n"
     ]
    }
   ],
   "source": [
    "trip_local_merged['distance'] = np.sqrt((trip_local_merged['start_x'] - trip_local_merged['end_x']) ** 2 +\n",
    "                                (trip_local_merged['start_y'] - trip_local_merged['end_y']) ** 2)\n",
    "# Ensure that trav_time is in timedelta format\n",
    "trip_local_merged['trav_time'] = pd.to_timedelta(trip_local_merged['trav_time'])\n",
    "\n",
    "average_duration = trip_local_merged['trav_time'].mean()  # convertir en minutes TO CHECK\n",
    "\n",
    "\n",
    "# Now, calculate the average_speed\n",
    "trip_local_merged['average_speed'] = (trip_local_merged['distance'] / 1000) / (trip_local_merged['trav_time'].dt.total_seconds() / 3600)\n",
    "\n",
    "# print(trip_local_merged.head(5)) # There is duplicates via the dep time or mode !!!\n",
    "\n",
    "average_distance = trip_local_merged['distance'].mean() / 1000  # convert to km\n",
    "overall_average_speed = trip_local_merged['average_speed'].mean()\n",
    "\n",
    "print(f\"Average durations of trips in {LOCAL} : {average_duration}m\")\n",
    "print(\"Average Distance: {:.2f} km\".format(average_distance))\n",
    "print(\"Overall Average Speed: {:.2f} km/h\".format(overall_average_speed))\n"
   ]
  },
  {
   "cell_type": "code",
   "execution_count": 8,
   "metadata": {},
   "outputs": [
    {
     "data": {
      "text/html": [
       "<div>\n",
       "<style scoped>\n",
       "    .dataframe tbody tr th:only-of-type {\n",
       "        vertical-align: middle;\n",
       "    }\n",
       "\n",
       "    .dataframe tbody tr th {\n",
       "        vertical-align: top;\n",
       "    }\n",
       "\n",
       "    .dataframe thead th {\n",
       "        text-align: right;\n",
       "    }\n",
       "</style>\n",
       "<table border=\"1\" class=\"dataframe\">\n",
       "  <thead>\n",
       "    <tr style=\"text-align: right;\">\n",
       "      <th></th>\n",
       "      <th>id</th>\n",
       "      <th>age</th>\n",
       "      <th>home_x</th>\n",
       "      <th>home_y</th>\n",
       "      <th>local</th>\n",
       "      <th>work_facility</th>\n",
       "      <th>work_facility_x</th>\n",
       "      <th>work_facility_y</th>\n",
       "    </tr>\n",
       "  </thead>\n",
       "  <tbody>\n",
       "    <tr>\n",
       "      <th>0</th>\n",
       "      <td>6336880</td>\n",
       "      <td>30</td>\n",
       "      <td>2539957.0</td>\n",
       "      <td>1152783.0</td>\n",
       "      <td>Lausanne</td>\n",
       "      <td>95509</td>\n",
       "      <td>2538446.0</td>\n",
       "      <td>1152412.0</td>\n",
       "    </tr>\n",
       "  </tbody>\n",
       "</table>\n",
       "</div>"
      ],
      "text/plain": [
       "        id  age     home_x     home_y     local work_facility  \\\n",
       "0  6336880   30  2539957.0  1152783.0  Lausanne         95509   \n",
       "\n",
       "   work_facility_x  work_facility_y  \n",
       "0        2538446.0        1152412.0  "
      ]
     },
     "execution_count": 8,
     "metadata": {},
     "output_type": "execute_result"
    }
   ],
   "source": [
    "work_facilities_df = activity_local_filtered[activity_local_filtered['type'] == 'work'][['id', 'facility', 'x', 'y']].drop_duplicates() # verifier via les homes\n",
    "population_local_merged = population_local.merge(work_facilities_df, on='id', how='left')\n",
    "population_local_merged.rename(columns={'facility': 'work_facility', 'x': 'work_facility_x', 'y': 'work_facility_y'}, inplace=True)\n",
    "\n",
    "population_local_merged.head(1)"
   ]
  },
  {
   "cell_type": "code",
   "execution_count": 34,
   "metadata": {},
   "outputs": [],
   "source": [
    "# Dataframes for validations on a small numbers\n",
    "\n",
    "n = 1 # nb of individuals\n",
    "m = 10 # nb of activities availables\n",
    "\n",
    "activity_local_filtered_sample = activity_local_filtered.sample(m)\n",
    "population_local_merged_sample = population_local_merged.sample(n)"
   ]
  },
  {
   "cell_type": "code",
   "execution_count": 11,
   "metadata": {},
   "outputs": [],
   "source": [
    "# DO NOT RUN BELOW : JOIN TO GET TRIP DISTANCE IS TOO HEAVY\n",
    "# je pense que si je me penche moi meme dessus, je peux le resoudre"
   ]
  },
  {
   "cell_type": "code",
   "execution_count": 10,
   "metadata": {},
   "outputs": [],
   "source": [
    "activity_local_filtered.to_csv(f'data_preprocessed/activity.csv', index=False)\n",
    "trip_local.to_csv(f'data_preprocessed/trip.csv', index=False)\n",
    "population_local_merged.to_csv(f'data_preprocessed/population.csv', index=False)"
   ]
  }
 ],
 "metadata": {
  "kernelspec": {
   "display_name": "nlp_a1",
   "language": "python",
   "name": "python3"
  },
  "language_info": {
   "codemirror_mode": {
    "name": "ipython",
    "version": 3
   },
   "file_extension": ".py",
   "mimetype": "text/x-python",
   "name": "python",
   "nbconvert_exporter": "python",
   "pygments_lexer": "ipython3",
   "version": "3.9.16"
  },
  "orig_nbformat": 4
 },
 "nbformat": 4,
 "nbformat_minor": 2
}
